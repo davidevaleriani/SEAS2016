{
 "cells": [
  {
   "cell_type": "markdown",
   "metadata": {},
   "source": [
    "##Clustering based on $\\sigma_{\\epsilon}^2$"
   ]
  },
  {
   "cell_type": "code",
   "execution_count": 2,
   "metadata": {
    "collapsed": false
   },
   "outputs": [
    {
     "name": "stdout",
     "output_type": "stream",
     "text": [
      "Using matplotlib backend: TkAgg\n",
      "Populating the interactive namespace from numpy and matplotlib\n"
     ]
    }
   ],
   "source": [
    "import numpy as np\n",
    "import scipy as sp\n",
    "import scipy.special\n",
    "import scipy.linalg\n",
    "import pandas as pd\n",
    "%pylab\n",
    "import matplotlib.pyplot as plt"
   ]
  },
  {
   "cell_type": "code",
   "execution_count": 70,
   "metadata": {
    "collapsed": true
   },
   "outputs": [],
   "source": [
    "%matplotlib inline"
   ]
  },
  {
   "cell_type": "code",
   "execution_count": 4,
   "metadata": {
    "collapsed": false
   },
   "outputs": [
    {
     "name": "stderr",
     "output_type": "stream",
     "text": [
      "/home/demba/.pyenv/versions/irl1/local/lib/python2.7/site-packages/IPython/parallel.py:13: ShimWarning: The `IPython.parallel` package has been deprecated. You should import from ipyparallel instead.\n",
      "  \"You should import from ipyparallel instead.\", ShimWarning)\n"
     ]
    }
   ],
   "source": [
    "%qtconsole"
   ]
  },
  {
   "cell_type": "markdown",
   "metadata": {},
   "source": [
    "## Functions used in clustering"
   ]
  },
  {
   "cell_type": "code",
   "execution_count": 56,
   "metadata": {
    "collapsed": false
   },
   "outputs": [],
   "source": [
    "def Do_Kalman_Likelihood(y, sigma2obs, sigma2e):\n",
    "    \"\"\"MAP solution, inverse covariance matrix, and marginal loglikelihood of state-space model\n",
    "\n",
    "    :param y: Observations (K,)\n",
    "    :param sigma2obs: Variance of observation noise (can be scalar or vector)\n",
    "    :param sigma2e: Variance of process noise\n",
    "    :return: x_map, L, marginal_loglikelihood, joint_loglikelihood\n",
    "    \"\"\"\n",
    "    # Build diagonals of information matrix\n",
    "    sigma2obs *= np.ones(len(y))\n",
    "    D = 1. / sigma2obs + 2. / sigma2e\n",
    "    D[-1] = 1. / sigma2obs[-1] + 1. / sigma2e\n",
    "    B = -np.ones(len(D)) / sigma2e\n",
    "    B[0] = 0.\n",
    "    \n",
    "    # Solve, assuming x_init=0 for simplicity\n",
    "    #L = sp.linalg.cholesky_banded((D, B), lower=True)\n",
    "    U = sp.linalg.cholesky_banded((B, D), lower=False)\n",
    "\n",
    "    x_map = sp.linalg.cho_solve_banded([U, False], y / sigma2obs)\n",
    "\n",
    "    # Compute joint and marginal probabilities\n",
    "    joint_loglikelihood = -.5 * ((np.sum(np.diff(x_map)**2) + x_map[0]**2) / sigma2e +\n",
    "                                 np.sum((y - x_map)**2 / sigma2obs) +\n",
    "                                 (len(y) * np.log(2*np.pi*sigma2e * 2*np.pi) + np.sum(np.log(sigma2obs))))\n",
    "    marginal_loglikelihood = len(y)/2. * np.log(2*np.pi) + joint_loglikelihood - np.sum(np.log(U[-1]))\n",
    "    return x_map, U, marginal_loglikelihood, joint_loglikelihood"
   ]
  },
  {
   "cell_type": "code",
   "execution_count": 57,
   "metadata": {
    "collapsed": true
   },
   "outputs": [],
   "source": [
    "def Do_Kalman_Likelihood_Bernoulli_LaplaceMAP(dN, sigma2e, tol=1e-8, trials=1.):\n",
    "    \"\"\"MAP solution, inverse covariance matrix, and marginal loglikelihood of state-space model\n",
    "    computed using Laplace approximation around MAP state.\n",
    "\n",
    "    :param dN: Observations (K,)\n",
    "    :param sigma2e: Variance of process noise\n",
    "    :param tol: Convergence criterion on the gradient of the log-likelihood\n",
    "    :param trials: Number of trials for binomial observations (1 for Bernoulli)\n",
    "    :return: x_map, U, marginal_loglikelihood, joint_loglikelihood\n",
    "    \"\"\"\n",
    "    x = np.zeros(dN.shape)\n",
    "    dN = dN.astype(float)\n",
    "    while True:\n",
    "        # Build gradient of joint\n",
    "        d2x = np.convolve(x, [-1, 2, -1])[1:-1]\n",
    "        d2x[-1] -= x[-1]\n",
    "        G = -dN + trials * (1. / (1. + np.exp(-x))) + d2x / sigma2e\n",
    "        # Build Hessian of joint\n",
    "        D = trials / (np.exp(x) + 2. + np.exp(-x)) + 2. / sigma2e\n",
    "        D[-1] -= 1. / sigma2e\n",
    "        B = -np.ones(len(D)) / sigma2e\n",
    "        B[0] = 0.\n",
    "        U = sp.linalg.cholesky_banded((B, D), lower=False)\n",
    "        # Check convergence\n",
    "        if np.dot(G, G) < tol:\n",
    "            x_map = x\n",
    "            break\n",
    "        # Update estimate of map\n",
    "        x -= sp.linalg.cho_solve_banded([U, False], G)\n",
    "\n",
    "    # Compute joint and marginal probabilities\n",
    "    joint_loglikelihood = (np.sum(np.log(sp.special.binom(trials, dN)) + dN * x_map - trials * np.log(1 + np.exp(x_map))) -\n",
    "                           .5 * ((np.sum(np.diff(x_map)**2) + x_map[0]**2) / sigma2e + len(dN) * np.log(2*np.pi*sigma2e)))\n",
    "    marginal_loglikelihood = len(dN)/2. * np.log(2*np.pi) + joint_loglikelihood - np.sum(np.log(U[-1]))\n",
    "    return x_map, U, marginal_loglikelihood, joint_loglikelihood"
   ]
  },
  {
   "cell_type": "code",
   "execution_count": 58,
   "metadata": {
    "collapsed": false
   },
   "outputs": [],
   "source": [
    "def cov_from_chol_precision(U):\n",
    "    \"\"\"Given the Cholesky factorization (U) of the posterior precision matrix (J), with U^t * U = J,\n",
    "    return the tridiagonal part of the covariance matrix.\n",
    "\n",
    "    :param U: Cholesky factorization (U) of J, given as [0, A; D] where A is the upper diagonal and D the main diagonal\n",
    "    :return: Cov_tri: Tridiagonal part of the covariance matrix returned as [0, C_i,i+1; C_ii; C_i+1,i, 0]\n",
    "    \"\"\"\n",
    "    assert(U.shape[0] == 2 and U[0,0] == 0)\n",
    "    A, D = U # Unpack matrix into first (above) diagonal and diagonal\n",
    "    Cov_tri = np.zeros_like(U)\n",
    "    C, V = Cov_tri # Obtain _views_ into the first diagonal and diagonal\n",
    "    # Compute last element of diagonal\n",
    "    V[-1] = 1. / (D[-1] ** 2)\n",
    "    # Recursively compute other elements of main diagonal and first diagonal\n",
    "    for i in range(len(D)-1, 0, -1):\n",
    "        iD = 1. / D[i-1]\n",
    "        iDA = iD * A[i]\n",
    "        N = -iDA * V[i]\n",
    "        C[i] = N\n",
    "        V[i-1] = iD ** 2 - N * iDA\n",
    "    return Cov_tri"
   ]
  },
  {
   "cell_type": "markdown",
   "metadata": {},
   "source": [
    "## Load data"
   ]
  },
  {
   "cell_type": "code",
   "execution_count": 90,
   "metadata": {
    "collapsed": true
   },
   "outputs": [],
   "source": [
    "toydata = False\n",
    "if toydata:\n",
    "    trials = 1\n",
    "\n",
    "    # Generate complex-valued Gaussian random vector\n",
    "    k = linspace(0,100,3000)\n",
    "    K = k.shape[0]\n",
    "\n",
    "    # Real part is an oscillation with period K0\n",
    "    K0 = 12.5\n",
    "    c1m = cos(2*pi*(k-((K0)/4))/(K0))\n",
    "\n",
    "    # Imaginary part is linear\n",
    "    #c2m = k/100\n",
    "    c2m = cos(2*pi*(k-(8*K0/4))/(8*K0))\n",
    "\n",
    "    # normalize cluster 1 mean and culster 2 mean they have the same energy\n",
    "    #c2m = sqrt(var(c1m)/var(c2m))*c2m\n",
    "\n",
    "    # Add Gaussian noise (based on real part, which is 0 mean)\n",
    "    snr = 10 # in dB\n",
    "\n",
    "    sigma2e = var(c1m) + var(c2m)\n",
    "\n",
    "    sigma2v = sigma2e*10**(-snr/10)\n",
    "\n",
    "    y1 = c1m + sqrt(sigma2v)*randn(K) \n",
    "    y2 = c2m + sqrt(sigma2v)*randn(K)\n",
    "\n",
    "    # Generate 10 time series for each cluster\n",
    "\n",
    "    Y1 = c1m + sqrt(sigma2v)*randn(10,K)\n",
    "\n",
    "    Y2 = c2m + sqrt(sigma2v)*randn(10,K)\n",
    "\n",
    "    Y = concatenate((Y1,Y2),axis=0)\n",
    "else:\n",
    "    # Load test data\n",
    "    Y = pd.read_csv('cluster_train_data.csv', header=None).values#[500:540]#800]\n",
    "    labels = Y[:,0]\n",
    "    Y = Y[:,1:]\n",
    "    trials = 50.\n",
    "    \n",
    "    sigma2v = 5.0"
   ]
  },
  {
   "cell_type": "markdown",
   "metadata": {},
   "source": [
    "## Assess amount of observation noise in real data"
   ]
  },
  {
   "cell_type": "code",
   "execution_count": 72,
   "metadata": {
    "collapsed": false
   },
   "outputs": [
    {
     "name": "stdout",
     "output_type": "stream",
     "text": [
      "CPU times: user 14.5 ms, sys: 162 µs, total: 14.6 ms\n",
      "Wall time: 14.5 ms\n",
      "-4150.10263879\n"
     ]
    },
    {
     "data": {
      "image/png": "[encoded data removed]",
      "text/plain": [
       "<matplotlib.figure.Figure at 0x7fac3473d490>"
      ]
     },
     "metadata": {},
     "output_type": "display_data"
    },
    {
     "name": "stdout",
     "output_type": "stream",
     "text": [
      "0.000191436736183\n"
     ]
    },
    {
     "data": {
      "image/png": "[encoded data removed]",
      "text/plain": [
       "<matplotlib.figure.Figure at 0x7fabf9a29310>"
      ]
     },
     "metadata": {},
     "output_type": "display_data"
    }
   ],
   "source": [
    "if not toydata:\n",
    "    # Test Marginal_Likelihood using the Laplace approximation around the MAP\n",
    "    sigma2e = 0.5\n",
    "    %time x_map_l, U_l, marginal_loglikelihood_l, joint_loglikelihood_l = Do_Kalman_Likelihood_Bernoulli_LaplaceMAP(Y[0,:], sigma2e, trials=trials)\n",
    "    print(marginal_loglikelihood_l)\n",
    "    plt.plot(x_map_l)\n",
    "    plt.show()\n",
    "    plt.plot(Y[0,:]/trials)\n",
    "    plt.plot(np.exp(x_map_l)/(1+np.exp(x_map_l)))\n",
    "\n",
    "    print var(Y[0,:]/trials - np.exp(x_map_l)/(1+np.exp(x_map_l)))"
   ]
  },
  {
   "cell_type": "markdown",
   "metadata": {},
   "source": [
    "## Run clustering"
   ]
  },
  {
   "cell_type": "code",
   "execution_count": 73,
   "metadata": {
    "collapsed": false
   },
   "outputs": [],
   "source": [
    "def Cluster_Kalman(Y, sigma2obs, sigma2e_init, prior_clusters, trials=1., verbose=True):\n",
    "    assert(len(sigma2e_init) == len(prior_clusters))\n",
    "    C = len(prior_clusters)\n",
    "    M, K = Y.shape\n",
    "    posterior_clusters = np.tile(prior_clusters, [M,1]).T\n",
    "    sigma2e = sigma2e_init\n",
    "    expect_log_likel_old = np.NaN\n",
    "    while True:\n",
    "        sigma2e_new = np.zeros((C, M))\n",
    "        log_prob_Yi_given_c = np.zeros((C, M))\n",
    "        for i, Y_i in enumerate(Y):\n",
    "            for c, sigma2e_c in enumerate(sigma2e):\n",
    "                x_map, U, marginal_loglik, _ = Do_Kalman_Likelihood(Y_i, sigma2obs, sigma2e_c)\n",
    "                Cov_tri = cov_from_chol_precision(U)\n",
    "                sigma2e_new[c,i] = (np.sum(Cov_tri[1]) + np.dot(x_map, x_map) # E[x_k^2]\n",
    "                                   + np.sum(Cov_tri[1,:-1]) + np.dot(x_map[:-1], x_map[:-1]) # E[x_{k-1}^2]\n",
    "                                   - 2 * np.sum(Cov_tri[0]) - 2 * np.dot(x_map[1:], x_map[:-1])) / K # E[x_{k-1} * x_k]\n",
    "                log_prob_Yi_given_c[c,i] = marginal_loglik\n",
    "        expect_log_likel = np.sum(posterior_clusters * log_prob_Yi_given_c)\n",
    "        if verbose:\n",
    "            print(expect_log_likel, sigma2e)\n",
    "        if (abs(expect_log_likel - expect_log_likel_old) < 1e-6 * abs(expect_log_likel_old)):\n",
    "            break\n",
    "        expect_log_likel_old = expect_log_likel\n",
    "        sigma2e = np.sum(posterior_clusters * sigma2e_new, axis=1) / np.sum(posterior_clusters, axis=1)\n",
    "        posterior_clusters = np.exp(log_prob_Yi_given_c - np.max(log_prob_Yi_given_c, axis=0)) * prior_clusters[:,None]\n",
    "        posterior_clusters /= np.sum(posterior_clusters, axis=0)\n",
    "        prior_clusters = np.sum(posterior_clusters, axis=1) / np.sum(posterior_clusters, axis=None)\n",
    "    return sigma2e, prior_clusters, posterior_clusters, expect_log_likel"
   ]
  },
  {
   "cell_type": "code",
   "execution_count": 91,
   "metadata": {
    "collapsed": false,
    "scrolled": false
   },
   "outputs": [
    {
     "name": "stdout",
     "output_type": "stream",
     "text": [
      "(-138464.62982702244, array([ 1.,  5.]))\n",
      "(-133457.05857960039, array([ 0.93475021,  3.42768611]))\n",
      "(-133047.01735802754, array([ 0.84246212,  3.31509109]))\n",
      "(-132728.4609070135, array([ 0.74789406,  3.14250582]))\n",
      "(-132477.46010296169, array([ 0.67278398,  3.01612283]))\n",
      "(-132276.79379601698, array([ 0.61199827,  2.92214966]))\n",
      "(-132114.3987580348, array([ 0.56201724,  2.85146137]))\n",
      "(-131981.60986893575, array([ 0.52035703,  2.79781587]))\n",
      "(-131872.06577285525, array([ 0.48522087,  2.75682653]))\n",
      "(-131781.00665729621, array([ 0.45528075,  2.72534279]))\n",
      "(-131704.81110403291, array([ 0.42953655,  2.70106191]))\n",
      "(-131640.68307131605, array([ 0.40722239,  2.68227696]))\n",
      "(-131586.43564899085, array([ 0.38774303,  2.66770832]))\n",
      "(-131540.3386705232, array([ 0.37062968,  2.65638808]))\n",
      "(-131501.00936955053, array([ 0.35550867,  2.64757888]))\n",
      "(-131467.32779090182, array([ 0.34207889,  2.64071573]))\n",
      "(-131430.51615270769, array([ 0.33008933,  2.6351836 ]))\n",
      "(-131383.19338350222, array([ 0.31661202,  2.56340286]))\n",
      "(-131342.32643903623, array([ 0.30385866,  2.49469085]))\n",
      "(-131308.12189925931, array([ 0.2924602 ,  2.44198782]))\n",
      "(-131279.14978254208, array([ 0.28223012,  2.40127598]))\n",
      "(-131254.37818790402, array([ 0.27301315,  2.36964748]))\n",
      "(-131230.44806336417, array([ 0.26467867,  2.34494445]))\n",
      "(-131197.30895604755, array([ 0.25628237,  2.3065506 ]))\n",
      "(-131166.0635057402, array([ 0.24717693,  2.24931669]))\n",
      "(-131139.87594620284, array([ 0.2389465 ,  2.20452244]))\n",
      "(-131117.63662169821, array([ 0.23148685,  2.16930752]))\n",
      "(-131098.5526246865, array([ 0.22470461,  2.14148124]))\n",
      "(-131082.03984051372, array([ 0.2185204,  2.1194034]))\n",
      "(-131067.65708753985, array([ 0.2128664 ,  2.10182923]))\n",
      "(-131055.06325373008, array([ 0.2076843 ,  2.08780343]))\n",
      "(-131043.98908410073, array([ 0.20292375,  2.07658609]))\n",
      "(-131034.21908347557, array([ 0.19854101,  2.06759778]))\n",
      "(-131024.92371775862, array([ 0.19449152,  2.06021211]))\n",
      "(-131009.9651969859, array([ 0.19042773,  2.04593167]))\n",
      "(-130991.78920994553, array([ 0.18539535,  2.00706551]))\n",
      "(-130976.3751180727, array([ 0.18062729,  1.97344225]))\n",
      "(-130963.26394726089, array([ 0.17623991,  1.9465105 ]))\n",
      "(-130951.97492539881, array([ 0.17219549,  1.92487037]))\n",
      "(-130942.16116096274, array([ 0.16845983,  1.90742472]))\n",
      "(-130933.563990079, array([ 0.16500294,  1.89332285]))\n",
      "(-130925.98618495336, array([ 0.16179845,  1.88189908]))\n",
      "(-130919.27406270552, array([ 0.15882311,  1.8726284 ]))\n",
      "(-130913.30538635, array([ 0.15605628,  1.86509418]))\n",
      "(-130907.98107613054, array([ 0.15347968,  1.85896398]))\n",
      "(-130903.21945248067, array([ 0.15107697,  1.85397137]))\n",
      "(-130898.9521776536, array([ 0.14883357,  1.84990207]))\n",
      "(-130895.12134869983, array([ 0.14673642,  1.84658322]))\n",
      "(-130891.67737919601, array([ 0.14477377,  1.843875  ]))\n",
      "(-130888.57742759102, array([ 0.14293504,  1.84166414]))\n",
      "(-130885.78420916591, array([ 0.14121068,  1.83985865]))\n",
      "(-130883.26508095788, array([ 0.13959204,  1.8383838 ]))\n",
      "(-130880.99132385585, array([ 0.13807128,  1.83717876]))\n",
      "(-130878.93756944234, array([ 0.13664127,  1.83619398]))\n",
      "(-130877.08133492182, array([ 0.13529551,  1.83538908]))\n",
      "(-130875.4026401903, array([ 0.13402809,  1.83473111]))\n",
      "(-130873.88368843686, array([ 0.13283359,  1.8341932 ]))\n",
      "(-130872.50859673691, array([ 0.13170705,  1.83375341]))\n",
      "(-130871.26316662767, array([ 0.13064391,  1.8333938 ]))\n",
      "(-130870.13468714789, array([ 0.12964   ,  1.83309976]))\n",
      "(-130869.11176459704, array([ 0.12869147,  1.8328593 ]))\n",
      "(-130868.1841745549, array([ 0.12779476,  1.83266266]))\n",
      "(-130867.34273263912, array([ 0.12694661,  1.83250185]))\n",
      "(-130866.57918117984, array([ 0.12614399,  1.83237034]))\n",
      "(-130865.88608951867, array([ 0.1253841 ,  1.83226278]))\n",
      "(-130865.25676604392, array([ 0.12466434,  1.83217482]))\n",
      "(-130864.68518039255, array([ 0.1239823 ,  1.83210287]))\n",
      "(-130864.16589449803, array([ 0.12333574,  1.83204403]))\n",
      "(-130863.69400136599, array([ 0.12272259,  1.83199591]))\n",
      "(-130863.26507062218, array([ 0.1221409 ,  1.83195655]))\n",
      "(-130862.87510001421, array([ 0.12158887,  1.83192435]))\n",
      "(-130862.52047215693, array([ 0.12106482,  1.83189802]))\n",
      "(-130862.19791591026, array([ 0.12056716,  1.83187649]))\n",
      "(-130861.90447185334, array([ 0.12009444,  1.83185888]))\n",
      "(-130861.63746138972, array([ 0.11964526,  1.83184447]))\n",
      "(-130861.39445907497, array([ 0.11921835,  1.83183269]))\n",
      "(-130861.17326780851, array([ 0.11881249,  1.83182305]))\n",
      "(-130860.9718965737, array([ 0.11842655,  1.83181517]))\n",
      "(-130860.7885404496, array([ 0.11805947,  1.83180872]))\n",
      "(-130860.62156264798, array([ 0.11771025,  1.83180345]))\n",
      "(-130860.46947835904, array([ 0.11737794,  1.83179913]))\n",
      "(-130860.33094021406, array([ 0.11706167,  1.83179561]))\n",
      "(-130860.20472519429, array([ 0.1167606 ,  1.83179272]))\n",
      "---- Expectation of log_likelihood -----\n",
      "-130860.204725\n",
      "---- Sigma2e -----\n",
      "[ 0.1167606   1.83179272]\n",
      "---- Prior clusters (estimated) -----\n",
      "[ 0.65  0.35]\n",
      "---- Posterior clusters -----\n",
      "[[  1.00000000e+000   1.00000000e+000   1.00000000e+000   1.00000000e+000\n",
      "    1.00000000e+000   1.00000000e+000   1.00000000e+000   1.00000000e+000\n",
      "    1.00000000e+000   1.00000000e+000   0.00000000e+000   3.99637661e-138\n",
      "    1.00000000e+000   0.00000000e+000   1.00000000e+000   5.47149829e-082\n",
      "    0.00000000e+000   1.00000000e+000   6.13023726e-048   0.00000000e+000]\n",
      " [  2.93691230e-080   3.09813833e-242   9.75243740e-189   6.74682951e-253\n",
      "    4.23275449e-200   8.52512497e-199   1.28233799e-242   3.37939839e-228\n",
      "    8.76006983e-218   4.55241564e-137   1.00000000e+000   1.00000000e+000\n",
      "    1.60044864e-031   1.00000000e+000   4.85510477e-062   1.00000000e+000\n",
      "    1.00000000e+000   1.00975595e-158   1.00000000e+000   1.00000000e+000]]\n",
      "CPU times: user 12.8 s, sys: 27.2 ms, total: 12.8 s\n",
      "Wall time: 12.8 s\n"
     ]
    }
   ],
   "source": [
    "%%time\n",
    "if toydata:\n",
    "    #sigma2e_init = np.array([0.01, 0.001])\n",
    "    sigma2e_init = np.array([0.0001, 0.001])\n",
    "    #sigma2e_init = np.array([0.1, 0.01])\n",
    "else:\n",
    "    sigma2e_init = np.array([1.0, 5.0])\n",
    "\n",
    "prior_clusters = np.array([0.5, 0.5])\n",
    "sigma2e, prior_clusters, posterior_clusters, expect_log_likel = Cluster_Kalman(Y, sigma2v, sigma2e_init, prior_clusters, trials=trials)\n",
    "print('---- Expectation of log_likelihood -----')\n",
    "print(expect_log_likel)\n",
    "print('---- Sigma2e -----')\n",
    "print(sigma2e)\n",
    "print('---- Prior clusters (estimated) -----')\n",
    "print(prior_clusters)\n",
    "print('---- Posterior clusters -----')\n",
    "print(posterior_clusters)"
   ]
  },
  {
   "cell_type": "code",
   "execution_count": 93,
   "metadata": {
    "collapsed": false
   },
   "outputs": [],
   "source": [
    "if toydata:\n",
    "    s2e = np.arange(0.00001, 0.005, .0001)\n",
    "else:\n",
    "    s2e = np.arange(0.01,7,0.05)\n",
    "#print s2e\n",
    "marginal_loglik = np.zeros_like(s2e)\n",
    "loglik_s1_s2 = np.zeros([len(s2e) , len(s2e)])\n",
    "col = ['', 'r', 'g', 'b']\n",
    "for i, Y_i in enumerate(Y):\n",
    "    for j in range(len(s2e)):\n",
    "        marginal_loglik[j] = Do_Kalman_Likelihood(Y_i, sigma2v, s2e[j])[2]\n",
    "    offset = np.max(marginal_loglik)\n",
    "    marginal_lik = np.exp(marginal_loglik - offset)\n",
    "    loglik_s1_s2 += offset + np.log(.5 * (marginal_lik[None,:] + marginal_lik[:,None]))\n",
    "plt.contour(s2e, s2e, loglik_s1_s2)\n",
    "plot(sigma2e[0],sigma2e[1],'ro')\n",
    "if toydata:\n",
    "    title('Toy data: culstering by EM for linear Gaussian SSM');\n",
    "else:\n",
    "    title('Real data: culstering by EM for linear Gaussian SSM');\n"
   ]
  },
  {
   "cell_type": "code",
   "execution_count": 87,
   "metadata": {
    "collapsed": false
   },
   "outputs": [],
   "source": [
    "from mpl_toolkits.mplot3d import Axes3D\n",
    "from matplotlib import cm\n",
    "from matplotlib.ticker import LinearLocator, FormatStrFormatter\n",
    "\n",
    "% matplotlib tk\n",
    "fig = figure()\n",
    "ax = fig.gca(projection='3d')\n",
    "S1e, S2e = np.meshgrid(s2e, s2e)\n",
    "\n",
    "surf = ax.plot_surface(S1e, S2e, loglik_s1_s2, rstride=1, cstride=1)#, cmap=cm.Accent,\n",
    "                       #linewidth=0, antialiased=False)\n",
    "    \n",
    "#plot(sigma2e[0],sigma2e[1],'ro')\n",
    "\n",
    "#ax.set_zlim(-25000, -18000)\n",
    "\n",
    "#ax.zaxis.set_major_locator(LinearLocator(10))\n",
    "#ax.zaxis.set_major_formatter(FormatStrFormatter('%.02f'))\n",
    "\n",
    "#fig.colorbar(surf, shrink=0.5, aspect=5)"
   ]
  },
  {
   "cell_type": "code",
   "execution_count": 77,
   "metadata": {
    "collapsed": false
   },
   "outputs": [
    {
     "name": "stdout",
     "output_type": "stream",
     "text": [
      "(2, 30)\n"
     ]
    }
   ],
   "source": [
    "print unravel_index(np.argmax(loglik_s1_s2),loglik_s1_s2.shape)"
   ]
  },
  {
   "cell_type": "code",
   "execution_count": 79,
   "metadata": {
    "collapsed": false
   },
   "outputs": [
    {
     "name": "stdout",
     "output_type": "stream",
     "text": [
      "0.00021 0.00301\n"
     ]
    }
   ],
   "source": [
    "print s2e[2], s2e[30]"
   ]
  },
  {
   "cell_type": "code",
   "execution_count": 81,
   "metadata": {
    "collapsed": false
   },
   "outputs": [
    {
     "data": {
      "text/plain": [
       "[<matplotlib.lines.Line2D at 0x7fabf11d1490>]"
      ]
     },
     "execution_count": 81,
     "metadata": {},
     "output_type": "execute_result"
    }
   ],
   "source": [
    "x_map, U, marginal_loglikelihood, joint_loglikelihood = Do_Kalman_Likelihood(Y[0,:],sigma2v,0.11)\n",
    "plot(Y[0,:])\n",
    "plot(x_map)\n"
   ]
  },
  {
   "cell_type": "code",
   "execution_count": null,
   "metadata": {
    "collapsed": true
   },
   "outputs": [],
   "source": []
  }
 ],
 "metadata": {
  "kernelspec": {
   "display_name": "Python 2",
   "language": "python",
   "name": "python2"
  },
  "language_info": {
   "codemirror_mode": {
    "name": "ipython",
    "version": 2
   },
   "file_extension": ".py",
   "mimetype": "text/x-python",
   "name": "python",
   "nbconvert_exporter": "python",
   "pygments_lexer": "ipython2",
   "version": "2.7.6"
  }
 },
 "nbformat": 4,
 "nbformat_minor": 0
}
