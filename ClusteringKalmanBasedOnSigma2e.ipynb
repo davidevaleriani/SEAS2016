{
 "cells": [
  {
   "cell_type": "markdown",
   "metadata": {},
   "source": [
    "##Clustering based on $\\sigma_{\\epsilon}^2$"
   ]
  },
  {
   "cell_type": "code",
   "execution_count": 1,
   "metadata": {
    "collapsed": false
   },
   "outputs": [
    {
     "name": "stdout",
     "output_type": "stream",
     "text": [
      "Using matplotlib backend: TkAgg\n",
      "Populating the interactive namespace from numpy and matplotlib\n"
     ]
    }
   ],
   "source": [
    "import numpy as np\n",
    "import scipy as sp\n",
    "import scipy.special\n",
    "import scipy.linalg\n",
    "%pylab\n",
    "%matplotlib inline\n",
    "import matplotlib.pyplot as plt"
   ]
  },
  {
   "cell_type": "code",
   "execution_count": 41,
   "metadata": {
    "collapsed": false
   },
   "outputs": [],
   "source": [
    "trials = 1\n",
    "\n",
    "# Generate complex-valued Gaussian random vector\n",
    "k = linspace(0,100,3000)\n",
    "K = k.shape[0]\n",
    "\n",
    "# Real part is an oscillation with period K0\n",
    "K0 = 12.5\n",
    "c1m = cos(2*pi*(k-((K0)/4))/(K0))\n",
    "\n",
    "# Imaginary part is linear\n",
    "#c2m = k/100\n",
    "c2m = cos(2*pi*(k-(8*K0/4))/(8*K0))\n",
    "\n",
    "# normalize cluster 1 mean and culster 2 mean they have the same energy\n",
    "#c2m = sqrt(var(c1m)/var(c2m))*c2m\n",
    "\n",
    "# Add Gaussian noise (based on real part, which is 0 mean)\n",
    "snr = 10 # in dB\n",
    "\n",
    "sigma2e = var(c1m) + var(c2m)\n",
    "\n",
    "sigma2v = sigma2e*10**(-snr/10)\n",
    "\n",
    "y1 = c1m + sqrt(sigma2v)*randn(K) \n",
    "y2 = c2m + sqrt(sigma2v)*randn(K)\n",
    "\n",
    "# Generate 10 time series for each cluster\n",
    "\n",
    "Y1 = c1m + sqrt(sigma2v)*randn(10,K)\n",
    "\n",
    "Y2 = c2m + sqrt(sigma2v)*randn(10,K)\n",
    "\n",
    "Y = concatenate((Y1,Y2),axis=0)\n"
   ]
  },
  {
   "cell_type": "code",
   "execution_count": 13,
   "metadata": {
    "collapsed": false
   },
   "outputs": [],
   "source": [
    "def Do_Kalman_Likelihood(y, sigma2obs, sigma2e):\n",
    "    \"\"\"MAP solution, inverse covariance matrix, and marginal loglikelihood of state-space model\n",
    "\n",
    "    :param y: Observations (K,)\n",
    "    :param sigma2obs: Variance of observation noise (can be scalar or vector)\n",
    "    :param sigma2e: Variance of process noise\n",
    "    :return: x_map, L, marginal_loglikelihood, joint_loglikelihood\n",
    "    \"\"\"\n",
    "    # Build diagonals of information matrix\n",
    "    sigma2obs *= np.ones(len(y))\n",
    "    D = 1. / sigma2obs + 2. / sigma2e\n",
    "    D[-1] = 1. / sigma2obs[-1] + 1. / sigma2e\n",
    "    B = -np.ones(len(D)) / sigma2e\n",
    "    B[0] = 0.\n",
    "    \n",
    "    # Solve, assuming x_init=0 for simplicity\n",
    "    #L = sp.linalg.cholesky_banded((D, B), lower=True)\n",
    "    U = sp.linalg.cholesky_banded((B, D), lower=False)\n",
    "\n",
    "    x_map = sp.linalg.cho_solve_banded([U, False], y / sigma2obs)\n",
    "\n",
    "    # Compute joint and marginal probabilities\n",
    "    joint_loglikelihood = -.5 * ((np.sum(np.diff(x_map)**2) + x_map[0]**2) / sigma2e +\n",
    "                                 np.sum((y - x_map)**2 / sigma2obs) +\n",
    "                                 (len(y) * np.log(2*np.pi*sigma2e * 2*np.pi) + np.sum(np.log(sigma2obs))))\n",
    "    marginal_loglikelihood = len(y)/2. * np.log(2*np.pi) + joint_loglikelihood - np.sum(np.log(U[-1]))\n",
    "    return x_map, U, marginal_loglikelihood, joint_loglikelihood"
   ]
  },
  {
   "cell_type": "code",
   "execution_count": 14,
   "metadata": {
    "collapsed": false
   },
   "outputs": [],
   "source": [
    "def cov_from_chol_precision(U):\n",
    "    \"\"\"Given the Cholesky factorization (U) of the posterior precision matrix (J), with U^t * U = J,\n",
    "    return the tridiagonal part of the covariance matrix.\n",
    "\n",
    "    :param U: Cholesky factorization (U) of J, given as [0, A; D] where A is the upper diagonal and D the main diagonal\n",
    "    :return: Cov_tri: Tridiagonal part of the covariance matrix returned as [0, C_i,i+1; C_ii; C_i+1,i, 0]\n",
    "    \"\"\"\n",
    "    assert(U.shape[0] == 2 and U[0,0] == 0)\n",
    "    A, D = U # Unpack matrix into first (above) diagonal and diagonal\n",
    "    Cov_tri = np.zeros_like(U)\n",
    "    C, V = Cov_tri # Obtain _views_ into the first diagonal and diagonal\n",
    "    # Compute last element of diagonal\n",
    "    V[-1] = 1. / (D[-1] ** 2)\n",
    "    # Recursively compute other elements of main diagonal and first diagonal\n",
    "    for i in range(len(D)-1, 0, -1):\n",
    "        iD = 1. / D[i-1]\n",
    "        iDA = iD * A[i]\n",
    "        N = -iDA * V[i]\n",
    "        C[i] = N\n",
    "        V[i-1] = iD ** 2 - N * iDA\n",
    "    return Cov_tri"
   ]
  },
  {
   "cell_type": "code",
   "execution_count": 22,
   "metadata": {
    "collapsed": false
   },
   "outputs": [],
   "source": [
    "def Cluster_Kalman(Y, sigma2obs, sigma2e_init, prior_clusters, trials=1., verbose=True):\n",
    "    assert(len(sigma2e_init) == len(prior_clusters))\n",
    "    C = len(prior_clusters)\n",
    "    M, K = Y.shape\n",
    "    posterior_clusters = np.tile(prior_clusters, [M,1]).T\n",
    "    sigma2e = sigma2e_init\n",
    "    expect_log_likel_old = np.NaN\n",
    "    while True:\n",
    "        sigma2e_new = np.zeros((C, M))\n",
    "        log_prob_Yi_given_c = np.zeros((C, M))\n",
    "        for i, Y_i in enumerate(Y):\n",
    "            for c, sigma2e_c in enumerate(sigma2e):\n",
    "                x_map, U, marginal_loglik, _ = Do_Kalman_Likelihood(Y_i, sigma2obs, sigma2e_c)\n",
    "                Cov_tri = cov_from_chol_precision(U)\n",
    "                sigma2e_new[c,i] = (np.sum(Cov_tri[1]) + np.dot(x_map, x_map) # E[x_k^2]\n",
    "                                   + np.sum(Cov_tri[1,:-1]) + np.dot(x_map[:-1], x_map[:-1]) # E[x_{k-1}^2]\n",
    "                                   - 2 * np.sum(Cov_tri[0]) - 2 * np.dot(x_map[1:], x_map[:-1])) / K # E[x_{k-1} * x_k]\n",
    "                log_prob_Yi_given_c[c,i] = marginal_loglik\n",
    "        expect_log_likel = np.sum(posterior_clusters * log_prob_Yi_given_c)\n",
    "        if verbose:\n",
    "            print(expect_log_likel, sigma2e)\n",
    "        if (abs(expect_log_likel - expect_log_likel_old) < 1e-6 * abs(expect_log_likel_old)):\n",
    "            break\n",
    "        expect_log_likel_old = expect_log_likel\n",
    "        sigma2e = np.sum(posterior_clusters * sigma2e_new, axis=1) / np.sum(posterior_clusters, axis=1)\n",
    "        posterior_clusters = np.exp(log_prob_Yi_given_c - np.max(log_prob_Yi_given_c, axis=0)) * prior_clusters[:,None]\n",
    "        posterior_clusters /= np.sum(posterior_clusters, axis=0)\n",
    "        prior_clusters = np.sum(posterior_clusters, axis=1) / np.sum(posterior_clusters, axis=None)\n",
    "    return sigma2e, prior_clusters, posterior_clusters, expect_log_likel"
   ]
  },
  {
   "cell_type": "code",
   "execution_count": 70,
   "metadata": {
    "collapsed": false,
    "scrolled": false
   },
   "outputs": [
    {
     "name": "stdout",
     "output_type": "stream",
     "text": [
      "(-26392.513675610204, array([ 0.0001,  0.001 ]))\n",
      "(-19379.407336604643, array([ 0.00014199,  0.00104147]))\n",
      "(-19243.851122904016, array([ 0.0001428 ,  0.00114598]))\n",
      "(-19138.158549663822, array([ 0.0001436 ,  0.00124699]))\n",
      "(-19054.521891931432, array([ 0.00014439,  0.00134433]))\n",
      "(-18987.520458421655, array([ 0.00014516,  0.00143789]))\n",
      "(-18933.288680523619, array([ 0.00014593,  0.00152761]))\n",
      "(-18889.006398587288, array([ 0.00014668,  0.00161347]))\n",
      "(-18852.575482425145, array([ 0.00014743,  0.00169549]))\n",
      "(-18822.408349469093, array([ 0.00014816,  0.0017737 ]))\n",
      "(-18797.285932807576, array([ 0.00014889,  0.00184818]))\n",
      "(-18776.26002541896, array([ 0.0001496,  0.001919 ]))\n",
      "(-18758.584720571238, array([ 0.0001503 ,  0.00198625]))\n",
      "(-18743.667374396286, array([ 0.000151  ,  0.00205004]))\n",
      "(-18731.032940711804, array([ 0.00015168,  0.00211048]))\n",
      "(-18720.297638106793, array([ 0.00015235,  0.00216769]))\n",
      "(-18711.149240956678, array([ 0.00015302,  0.00222179]))\n",
      "(-18703.332144964843, array([ 0.00015367,  0.0022729 ]))\n",
      "(-18696.63592289095, array([ 0.00015432,  0.00232116]))\n",
      "(-18690.886464672963, array([ 0.00015495,  0.00236668]))\n",
      "(-18685.93905399357, array([ 0.00015558,  0.00240959]))\n",
      "(-18681.672911667429, array([ 0.0001562 ,  0.00245002]))\n",
      "(-18677.986861335867, array([ 0.00015681,  0.00248808]))\n",
      "(-18674.795861870713, array([ 0.00015741,  0.0025239 ]))\n",
      "(-18672.028214869657, array([ 0.000158  ,  0.00255758]))\n",
      "(-18669.623302187792, array([ 0.00015858,  0.00258925]))\n",
      "(-18667.529742692583, array([ 0.00015916,  0.002619  ]))\n",
      "(-18665.703882873669, array([ 0.00015972,  0.00264694]))\n",
      "(-18664.108555014376, array([ 0.00016028,  0.00267317]))\n",
      "(-18662.712051063245, array([ 0.00016083,  0.00269779]))\n",
      "(-18661.487271350386, array([ 0.00016137,  0.00272089]))\n",
      "(-18660.411015754547, array([ 0.00016191,  0.00274255]))\n",
      "(-18659.463391479643, array([ 0.00016243,  0.00276286]))\n",
      "(-18658.627316704486, array([ 0.00016295,  0.0027819 ]))\n",
      "(-18657.888103383091, array([ 0.00016346,  0.00279974]))\n",
      "(-18657.233105635976, array([ 0.00016396,  0.00281645]))\n",
      "(-18656.651422687926, array([ 0.00016446,  0.0028321 ]))\n",
      "(-18656.133647317769, array([ 0.00016495,  0.00284676]))\n",
      "(-18655.671652396792, array([ 0.00016543,  0.00286049]))\n",
      "(-18655.258409394723, array([ 0.0001659 ,  0.00287333]))\n",
      "(-18654.887833785542, array([ 0.00016637,  0.00288535]))\n",
      "(-18654.554653145635, array([ 0.00016683,  0.0028966 ]))\n",
      "(-18654.254294438248, array([ 0.00016728,  0.00290713]))\n",
      "(-18653.982787552039, array([ 0.00016773,  0.00291698]))\n",
      "(-18653.736682642113, array([ 0.00016817,  0.00292619]))\n",
      "(-18653.512979206847, array([ 0.0001686,  0.0029348]))\n",
      "(-18653.309065165635, array([ 0.00016903,  0.00294285]))\n",
      "(-18653.122664468887, array([ 0.00016945,  0.00295039]))\n",
      "(-18652.951792000724, array([ 0.00016986,  0.00295743]))\n",
      "(-18652.794714722317, array([ 0.00017027,  0.00296401]))\n",
      "(-18652.64991816198, array([ 0.00017067,  0.00297016]))\n",
      "(-18652.516077492674, array([ 0.00017106,  0.00297592]))\n",
      "(-18652.392032549833, array([ 0.00017145,  0.00298129]))\n",
      "(-18652.276766236038, array([ 0.00017183,  0.00298632]))\n",
      "(-18652.169385840232, array([ 0.00017221,  0.00299101]))\n",
      "(-18652.069106869065, array([ 0.00017258,  0.0029954 ]))\n",
      "(-18651.975239041312, array([ 0.00017295,  0.0029995 ]))\n",
      "(-18651.887174151387, array([ 0.00017331,  0.00300333]))\n",
      "(-18651.804375543899, array([ 0.00017366,  0.00300691]))\n",
      "(-18651.726368982767, array([ 0.00017401,  0.00301025]))\n",
      "(-18651.652734724092, array([ 0.00017436,  0.00301337]))\n",
      "(-18651.583100631848, array([ 0.0001747 ,  0.00301629]))\n",
      "(-18651.517136194503, array([ 0.00017503,  0.00301902]))\n",
      "(-18651.454547324625, array([ 0.00017536,  0.00302156]))\n",
      "(-18651.395071834322, array([ 0.00017568,  0.00302394]))\n",
      "(-18651.338475497862, array([ 0.000176  ,  0.00302616]))\n",
      "(-18651.284548624033, array([ 0.00017631,  0.00302824]))\n",
      "(-18651.233103069684, array([ 0.00017662,  0.00303017]))\n",
      "(-18651.183969637234, array([ 0.00017692,  0.00303198]))\n",
      "(-18651.136995805387, array([ 0.00017722,  0.00303367]))\n",
      "(-18651.092043748831, array([ 0.00017752,  0.00303525]))\n",
      "(-18651.048988610048, array([ 0.00017781,  0.00303673]))\n",
      "(-18651.007716989916, array([ 0.00017809,  0.0030381 ]))\n",
      "(-18650.968125628162, array([ 0.00017837,  0.00303939]))\n",
      "(-18650.93012024941, array([ 0.00017865,  0.00304059]))\n",
      "(-18650.89361455437, array([ 0.00017892,  0.00304171]))\n",
      "(-18650.858529334859, array([ 0.00017919,  0.00304276]))\n",
      "(-18650.824791700139, array([ 0.00017946,  0.00304374]))\n",
      "(-18650.792334396428, array([ 0.00017972,  0.00304465]))\n",
      "(-18650.761095211594, array([ 0.00017997,  0.0030455 ]))\n",
      "(-18650.731016450321, array([ 0.00018022,  0.0030463 ]))\n",
      "(-18650.702044474383, array([ 0.00018047,  0.00304704]))\n",
      "(-18650.674129296225, array([ 0.00018071,  0.00304773]))\n",
      "(-18650.647224222386, array([ 0.00018095,  0.00304838]))\n",
      "(-18650.6212855376, array([ 0.00018119,  0.00304899]))\n",
      "(-18650.596272227005, array([ 0.00018142,  0.00304955]))\n",
      "(-18650.572145729231, array([ 0.00018165,  0.00305008]))\n",
      "(-18650.548869718805, array([ 0.00018188,  0.00305057]))\n",
      "(-18650.526409912141, array([ 0.0001821 ,  0.00305103]))\n",
      "(-18650.504733895978, array([ 0.00018232,  0.00305146]))\n",
      "(-18650.483810974212, array([ 0.00018253,  0.00305186]))\n",
      "(-18650.463612031381, array([ 0.00018275,  0.00305224]))\n",
      "(-18650.44410941127, array([ 0.00018295,  0.00305259]))\n",
      "(-18650.425276807466, array([ 0.00018316,  0.00305291]))\n",
      "(-18650.407089165543, array([ 0.00018336,  0.00305322]))\n",
      "---- Expectation of log_likelihood -----\n",
      "-18650.4070892\n",
      "---- Sigma2e -----\n",
      "[ 0.00018336  0.00305322]\n",
      "---- Prior clusters (estimated) -----\n",
      "[ 0.5  0.5]\n",
      "---- Posterior clusters -----\n",
      "[[  0.00000000e+00   0.00000000e+00   0.00000000e+00   0.00000000e+00\n",
      "    0.00000000e+00   0.00000000e+00   0.00000000e+00   0.00000000e+00\n",
      "    0.00000000e+00   0.00000000e+00   1.00000000e+00   1.00000000e+00\n",
      "    1.00000000e+00   1.00000000e+00   1.00000000e+00   1.00000000e+00\n",
      "    1.00000000e+00   1.00000000e+00   1.00000000e+00   1.00000000e+00]\n",
      " [  1.00000000e+00   1.00000000e+00   1.00000000e+00   1.00000000e+00\n",
      "    1.00000000e+00   1.00000000e+00   1.00000000e+00   1.00000000e+00\n",
      "    1.00000000e+00   1.00000000e+00   2.14172939e-39   3.13910228e-34\n",
      "    3.75735269e-39   4.23287128e-40   4.19142368e-35   2.86065886e-37\n",
      "    3.38717937e-36   2.00332579e-34   7.68067962e-35   8.71388152e-34]]\n",
      "CPU times: user 13.7 s, sys: 45.5 ms, total: 13.8 s\n",
      "Wall time: 13.8 s\n"
     ]
    }
   ],
   "source": [
    "%%time\n",
    "#sigma2e_init = np.array([0.01, 0.001])\n",
    "sigma2e_init = np.array([0.0001, 0.001])\n",
    "#sigma2e_init = np.array([0.001, 0.01])\n",
    "\n",
    "\n",
    "prior_clusters = np.array([0.5, 0.5])\n",
    "sigma2e, prior_clusters, posterior_clusters, expect_log_likel = Cluster_Kalman(Y, sigma2v, sigma2e_init, prior_clusters, trials=trials)\n",
    "print('---- Expectation of log_likelihood -----')\n",
    "print(expect_log_likel)\n",
    "print('---- Sigma2e -----')\n",
    "print(sigma2e)\n",
    "print('---- Prior clusters (estimated) -----')\n",
    "print(prior_clusters)\n",
    "print('---- Posterior clusters -----')\n",
    "print(posterior_clusters)"
   ]
  },
  {
   "cell_type": "code",
   "execution_count": 75,
   "metadata": {
    "collapsed": false
   },
   "outputs": [
    {
     "ename": "TypeError",
     "evalue": "object of type 'numpy.float64' has no len()",
     "output_type": "error",
     "traceback": [
      "\u001b[1;31m---------------------------------------------------------------------------\u001b[0m",
      "\u001b[1;31mTypeError\u001b[0m                                 Traceback (most recent call last)",
      "\u001b[1;32m<ipython-input-75-cfffba1164cf>\u001b[0m in \u001b[0;36m<module>\u001b[1;34m()\u001b[0m\n\u001b[0;32m     11\u001b[0m     \u001b[0mloglik_s1_s2\u001b[0m \u001b[1;33m+=\u001b[0m \u001b[0moffset\u001b[0m \u001b[1;33m+\u001b[0m \u001b[0mnp\u001b[0m\u001b[1;33m.\u001b[0m\u001b[0mlog\u001b[0m\u001b[1;33m(\u001b[0m\u001b[1;36m.5\u001b[0m \u001b[1;33m*\u001b[0m \u001b[1;33m(\u001b[0m\u001b[0mmarginal_lik\u001b[0m\u001b[1;33m[\u001b[0m\u001b[0mNone\u001b[0m\u001b[1;33m,\u001b[0m\u001b[1;33m:\u001b[0m\u001b[1;33m]\u001b[0m \u001b[1;33m+\u001b[0m \u001b[0mmarginal_lik\u001b[0m\u001b[1;33m[\u001b[0m\u001b[1;33m:\u001b[0m\u001b[1;33m,\u001b[0m\u001b[0mNone\u001b[0m\u001b[1;33m]\u001b[0m\u001b[1;33m)\u001b[0m\u001b[1;33m)\u001b[0m\u001b[1;33m\u001b[0m\u001b[0m\n\u001b[0;32m     12\u001b[0m \u001b[0mplt\u001b[0m\u001b[1;33m.\u001b[0m\u001b[0mcontour\u001b[0m\u001b[1;33m(\u001b[0m\u001b[0ms2e\u001b[0m\u001b[1;33m,\u001b[0m \u001b[0ms2e\u001b[0m\u001b[1;33m,\u001b[0m \u001b[0mloglik_s1_s2\u001b[0m\u001b[1;33m)\u001b[0m\u001b[1;33m\u001b[0m\u001b[0m\n\u001b[1;32m---> 13\u001b[1;33m \u001b[0mplot\u001b[0m\u001b[1;33m(\u001b[0m\u001b[0msigma2e\u001b[0m\u001b[1;33m[\u001b[0m\u001b[1;36m0\u001b[0m\u001b[1;33m]\u001b[0m\u001b[1;33m,\u001b[0m\u001b[0msigma2e\u001b[0m\u001b[1;33m[\u001b[0m\u001b[1;36m1\u001b[0m\u001b[1;33m]\u001b[0m\u001b[1;33m,\u001b[0m\u001b[1;34m'ro'\u001b[0m\u001b[1;33m)\u001b[0m\u001b[1;33m\u001b[0m\u001b[0m\n\u001b[0m",
      "\u001b[1;32m/home/demba/.pyenv/versions/irl1/local/lib/python2.7/site-packages/matplotlib/pyplot.pyc\u001b[0m in \u001b[0;36mplot\u001b[1;34m(*args, **kwargs)\u001b[0m\n\u001b[0;32m   3152\u001b[0m         \u001b[0max\u001b[0m\u001b[1;33m.\u001b[0m\u001b[0mhold\u001b[0m\u001b[1;33m(\u001b[0m\u001b[0mhold\u001b[0m\u001b[1;33m)\u001b[0m\u001b[1;33m\u001b[0m\u001b[0m\n\u001b[0;32m   3153\u001b[0m     \u001b[1;32mtry\u001b[0m\u001b[1;33m:\u001b[0m\u001b[1;33m\u001b[0m\u001b[0m\n\u001b[1;32m-> 3154\u001b[1;33m         \u001b[0mret\u001b[0m \u001b[1;33m=\u001b[0m \u001b[0max\u001b[0m\u001b[1;33m.\u001b[0m\u001b[0mplot\u001b[0m\u001b[1;33m(\u001b[0m\u001b[1;33m*\u001b[0m\u001b[0margs\u001b[0m\u001b[1;33m,\u001b[0m \u001b[1;33m**\u001b[0m\u001b[0mkwargs\u001b[0m\u001b[1;33m)\u001b[0m\u001b[1;33m\u001b[0m\u001b[0m\n\u001b[0m\u001b[0;32m   3155\u001b[0m     \u001b[1;32mfinally\u001b[0m\u001b[1;33m:\u001b[0m\u001b[1;33m\u001b[0m\u001b[0m\n\u001b[0;32m   3156\u001b[0m         \u001b[0max\u001b[0m\u001b[1;33m.\u001b[0m\u001b[0mhold\u001b[0m\u001b[1;33m(\u001b[0m\u001b[0mwashold\u001b[0m\u001b[1;33m)\u001b[0m\u001b[1;33m\u001b[0m\u001b[0m\n",
      "\u001b[1;32m/home/demba/.pyenv/versions/irl1/local/lib/python2.7/site-packages/mpl_toolkits/mplot3d/axes3d.pyc\u001b[0m in \u001b[0;36mplot\u001b[1;34m(self, xs, ys, *args, **kwargs)\u001b[0m\n\u001b[0;32m   1521\u001b[0m         \u001b[1;31m# First argument is array of zs\u001b[0m\u001b[1;33m\u001b[0m\u001b[1;33m\u001b[0m\u001b[0m\n\u001b[0;32m   1522\u001b[0m         \u001b[1;32mif\u001b[0m \u001b[0mlen\u001b[0m\u001b[1;33m(\u001b[0m\u001b[0margs\u001b[0m\u001b[1;33m)\u001b[0m \u001b[1;33m>\u001b[0m \u001b[1;36m0\u001b[0m \u001b[1;32mand\u001b[0m \u001b[0mcbook\u001b[0m\u001b[1;33m.\u001b[0m\u001b[0miterable\u001b[0m\u001b[1;33m(\u001b[0m\u001b[0margs\u001b[0m\u001b[1;33m[\u001b[0m\u001b[1;36m0\u001b[0m\u001b[1;33m]\u001b[0m\u001b[1;33m)\u001b[0m \u001b[1;32mand\u001b[0m\u001b[0;31m \u001b[0m\u001b[0;31m\\\u001b[0m\u001b[1;33m\u001b[0m\u001b[0m\n\u001b[1;32m-> 1523\u001b[1;33m                 \u001b[0mlen\u001b[0m\u001b[1;33m(\u001b[0m\u001b[0mxs\u001b[0m\u001b[1;33m)\u001b[0m \u001b[1;33m==\u001b[0m \u001b[0mlen\u001b[0m\u001b[1;33m(\u001b[0m\u001b[0margs\u001b[0m\u001b[1;33m[\u001b[0m\u001b[1;36m0\u001b[0m\u001b[1;33m]\u001b[0m\u001b[1;33m)\u001b[0m \u001b[1;33m:\u001b[0m\u001b[1;33m\u001b[0m\u001b[0m\n\u001b[0m\u001b[0;32m   1524\u001b[0m             \u001b[1;31m# So, we know that it is an array with\u001b[0m\u001b[1;33m\u001b[0m\u001b[1;33m\u001b[0m\u001b[0m\n\u001b[0;32m   1525\u001b[0m             \u001b[1;31m# first dimension the same as xs.\u001b[0m\u001b[1;33m\u001b[0m\u001b[1;33m\u001b[0m\u001b[0m\n",
      "\u001b[1;31mTypeError\u001b[0m: object of type 'numpy.float64' has no len()"
     ]
    }
   ],
   "source": [
    "s2e = np.arange(0.00001, 0.005, .0001)\n",
    "#print s2e\n",
    "marginal_loglik = np.zeros_like(s2e)\n",
    "loglik_s1_s2 = np.zeros([len(s2e) , len(s2e)])\n",
    "col = ['', 'r', 'g', 'b']\n",
    "for i, Y_i in enumerate(Y):\n",
    "    for j in range(len(s2e)):\n",
    "        marginal_loglik[j] = Do_Kalman_Likelihood(Y_i, sigma2v, s2e[j])[2]\n",
    "    offset = np.max(marginal_loglik)\n",
    "    marginal_lik = np.exp(marginal_loglik - offset)\n",
    "    loglik_s1_s2 += offset + np.log(.5 * (marginal_lik[None,:] + marginal_lik[:,None]))\n",
    "plt.contour(s2e, s2e, loglik_s1_s2)\n",
    "plot(sigma2e[0],sigma2e[1],'ro')"
   ]
  },
  {
   "cell_type": "code",
   "execution_count": 74,
   "metadata": {
    "collapsed": false
   },
   "outputs": [
    {
     "ename": "TypeError",
     "evalue": "object of type 'numpy.float64' has no len()",
     "output_type": "error",
     "traceback": [
      "\u001b[1;31m---------------------------------------------------------------------------\u001b[0m",
      "\u001b[1;31mTypeError\u001b[0m                                 Traceback (most recent call last)",
      "\u001b[1;32m<ipython-input-74-bbf1270e2c65>\u001b[0m in \u001b[0;36m<module>\u001b[1;34m()\u001b[0m\n\u001b[0;32m     10\u001b[0m                        \u001b[1;31m#linewidth=0, antialiased=False)\u001b[0m\u001b[1;33m\u001b[0m\u001b[1;33m\u001b[0m\u001b[0m\n\u001b[0;32m     11\u001b[0m \u001b[1;33m\u001b[0m\u001b[0m\n\u001b[1;32m---> 12\u001b[1;33m \u001b[0mplot\u001b[0m\u001b[1;33m(\u001b[0m\u001b[0msigma2e\u001b[0m\u001b[1;33m[\u001b[0m\u001b[1;36m0\u001b[0m\u001b[1;33m]\u001b[0m\u001b[1;33m,\u001b[0m\u001b[0msigma2e\u001b[0m\u001b[1;33m[\u001b[0m\u001b[1;36m1\u001b[0m\u001b[1;33m]\u001b[0m\u001b[1;33m,\u001b[0m\u001b[1;34m'ro'\u001b[0m\u001b[1;33m)\u001b[0m\u001b[1;33m\u001b[0m\u001b[0m\n\u001b[0m\u001b[0;32m     13\u001b[0m \u001b[1;33m\u001b[0m\u001b[0m\n\u001b[0;32m     14\u001b[0m \u001b[1;31m#ax.set_zlim(-25000, -18000)\u001b[0m\u001b[1;33m\u001b[0m\u001b[1;33m\u001b[0m\u001b[0m\n",
      "\u001b[1;32m/home/demba/.pyenv/versions/irl1/local/lib/python2.7/site-packages/matplotlib/pyplot.pyc\u001b[0m in \u001b[0;36mplot\u001b[1;34m(*args, **kwargs)\u001b[0m\n\u001b[0;32m   3152\u001b[0m         \u001b[0max\u001b[0m\u001b[1;33m.\u001b[0m\u001b[0mhold\u001b[0m\u001b[1;33m(\u001b[0m\u001b[0mhold\u001b[0m\u001b[1;33m)\u001b[0m\u001b[1;33m\u001b[0m\u001b[0m\n\u001b[0;32m   3153\u001b[0m     \u001b[1;32mtry\u001b[0m\u001b[1;33m:\u001b[0m\u001b[1;33m\u001b[0m\u001b[0m\n\u001b[1;32m-> 3154\u001b[1;33m         \u001b[0mret\u001b[0m \u001b[1;33m=\u001b[0m \u001b[0max\u001b[0m\u001b[1;33m.\u001b[0m\u001b[0mplot\u001b[0m\u001b[1;33m(\u001b[0m\u001b[1;33m*\u001b[0m\u001b[0margs\u001b[0m\u001b[1;33m,\u001b[0m \u001b[1;33m**\u001b[0m\u001b[0mkwargs\u001b[0m\u001b[1;33m)\u001b[0m\u001b[1;33m\u001b[0m\u001b[0m\n\u001b[0m\u001b[0;32m   3155\u001b[0m     \u001b[1;32mfinally\u001b[0m\u001b[1;33m:\u001b[0m\u001b[1;33m\u001b[0m\u001b[0m\n\u001b[0;32m   3156\u001b[0m         \u001b[0max\u001b[0m\u001b[1;33m.\u001b[0m\u001b[0mhold\u001b[0m\u001b[1;33m(\u001b[0m\u001b[0mwashold\u001b[0m\u001b[1;33m)\u001b[0m\u001b[1;33m\u001b[0m\u001b[0m\n",
      "\u001b[1;32m/home/demba/.pyenv/versions/irl1/local/lib/python2.7/site-packages/mpl_toolkits/mplot3d/axes3d.pyc\u001b[0m in \u001b[0;36mplot\u001b[1;34m(self, xs, ys, *args, **kwargs)\u001b[0m\n\u001b[0;32m   1521\u001b[0m         \u001b[1;31m# First argument is array of zs\u001b[0m\u001b[1;33m\u001b[0m\u001b[1;33m\u001b[0m\u001b[0m\n\u001b[0;32m   1522\u001b[0m         \u001b[1;32mif\u001b[0m \u001b[0mlen\u001b[0m\u001b[1;33m(\u001b[0m\u001b[0margs\u001b[0m\u001b[1;33m)\u001b[0m \u001b[1;33m>\u001b[0m \u001b[1;36m0\u001b[0m \u001b[1;32mand\u001b[0m \u001b[0mcbook\u001b[0m\u001b[1;33m.\u001b[0m\u001b[0miterable\u001b[0m\u001b[1;33m(\u001b[0m\u001b[0margs\u001b[0m\u001b[1;33m[\u001b[0m\u001b[1;36m0\u001b[0m\u001b[1;33m]\u001b[0m\u001b[1;33m)\u001b[0m \u001b[1;32mand\u001b[0m\u001b[0;31m \u001b[0m\u001b[0;31m\\\u001b[0m\u001b[1;33m\u001b[0m\u001b[0m\n\u001b[1;32m-> 1523\u001b[1;33m                 \u001b[0mlen\u001b[0m\u001b[1;33m(\u001b[0m\u001b[0mxs\u001b[0m\u001b[1;33m)\u001b[0m \u001b[1;33m==\u001b[0m \u001b[0mlen\u001b[0m\u001b[1;33m(\u001b[0m\u001b[0margs\u001b[0m\u001b[1;33m[\u001b[0m\u001b[1;36m0\u001b[0m\u001b[1;33m]\u001b[0m\u001b[1;33m)\u001b[0m \u001b[1;33m:\u001b[0m\u001b[1;33m\u001b[0m\u001b[0m\n\u001b[0m\u001b[0;32m   1524\u001b[0m             \u001b[1;31m# So, we know that it is an array with\u001b[0m\u001b[1;33m\u001b[0m\u001b[1;33m\u001b[0m\u001b[0m\n\u001b[0;32m   1525\u001b[0m             \u001b[1;31m# first dimension the same as xs.\u001b[0m\u001b[1;33m\u001b[0m\u001b[1;33m\u001b[0m\u001b[0m\n",
      "\u001b[1;31mTypeError\u001b[0m: object of type 'numpy.float64' has no len()"
     ]
    }
   ],
   "source": [
    "from mpl_toolkits.mplot3d import Axes3D\n",
    "from matplotlib import cm\n",
    "from matplotlib.ticker import LinearLocator, FormatStrFormatter\n",
    "\n",
    "fig = figure()\n",
    "ax = fig.gca(projection='3d')\n",
    "S1e, S2e = np.meshgrid(s2e, s2e)\n",
    "\n",
    "surf = ax.plot_surface(S1e, S2e, loglik_s1_s2, rstride=1, cstride=1)#, cmap=cm.Accent,\n",
    "                       #linewidth=0, antialiased=False)\n",
    "    \n",
    "plot(sigma2e[0],sigma2e[1],'ro')\n",
    "\n",
    "#ax.set_zlim(-25000, -18000)\n",
    "\n",
    "#ax.zaxis.set_major_locator(LinearLocator(10))\n",
    "#ax.zaxis.set_major_formatter(FormatStrFormatter('%.02f'))\n",
    "\n",
    "#fig.colorbar(surf, shrink=0.5, aspect=5)"
   ]
  },
  {
   "cell_type": "code",
   "execution_count": 77,
   "metadata": {
    "collapsed": false
   },
   "outputs": [
    {
     "name": "stdout",
     "output_type": "stream",
     "text": [
      "(2, 30)\n"
     ]
    }
   ],
   "source": [
    "print unravel_index(np.argmax(loglik_s1_s2),loglik_s1_s2.shape)"
   ]
  },
  {
   "cell_type": "code",
   "execution_count": 79,
   "metadata": {
    "collapsed": false
   },
   "outputs": [
    {
     "name": "stdout",
     "output_type": "stream",
     "text": [
      "0.00021 0.00301\n"
     ]
    }
   ],
   "source": [
    "print s2e[2], s2e[30]"
   ]
  },
  {
   "cell_type": "code",
   "execution_count": null,
   "metadata": {
    "collapsed": true
   },
   "outputs": [],
   "source": []
  }
 ],
 "metadata": {
  "kernelspec": {
   "display_name": "Python 2",
   "language": "python",
   "name": "python2"
  },
  "language_info": {
   "codemirror_mode": {
    "name": "ipython",
    "version": 2
   },
   "file_extension": ".py",
   "mimetype": "text/x-python",
   "name": "python",
   "nbconvert_exporter": "python",
   "pygments_lexer": "ipython2",
   "version": "2.7.6"
  }
 },
 "nbformat": 4,
 "nbformat_minor": 0
}
