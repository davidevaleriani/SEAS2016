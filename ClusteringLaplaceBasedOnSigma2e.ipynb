{
 "metadata": {
  "name": "",
  "signature": "sha256:b0dbc4940a1e6a0778c847fc90f6d913a38142dc4e9a4493f45acd45d7abada0"
 },
 "nbformat": 3,
 "nbformat_minor": 0,
 "worksheets": [
  {
   "cells": [
    {
     "cell_type": "markdown",
     "metadata": {},
     "source": [
      "##Clustering based on $\\sigma_{\\epsilon}^2$"
     ]
    },
    {
     "cell_type": "code",
     "collapsed": false,
     "input": [
      "import numpy as np\n",
      "import scipy as sp\n",
      "import scipy.special\n",
      "import scipy.linalg\n",
      "%matplotlib inline\n",
      "import matplotlib.pyplot as plt"
     ],
     "language": "python",
     "metadata": {},
     "outputs": [],
     "prompt_number": 1
    },
    {
     "cell_type": "code",
     "collapsed": false,
     "input": [
      "# Load test data\n",
      "import pandas as pd\n",
      "dN = pd.read_csv('cluster_train_data.csv', header=None).values#[500:540]#800]\n",
      "labels = dN[:,0]\n",
      "dN = dN[:,1:]\n",
      "trials = 50"
     ],
     "language": "python",
     "metadata": {},
     "outputs": [],
     "prompt_number": 2
    },
    {
     "cell_type": "code",
     "collapsed": false,
     "input": [
      "def Do_Kalman_Likelihood_Bernoulli_LaplaceMAP(dN, sigma2e, tol=1e-8, trials=1.):\n",
      "    \"\"\"MAP solution, inverse covariance matrix, and marginal loglikelihood of state-space model\n",
      "    computed using Laplace approximation around MAP state.\n",
      "\n",
      "    :param dN: Observations (K,)\n",
      "    :param sigma2e: Variance of process noise\n",
      "    :param tol: Convergence criterion on the gradient of the log-likelihood\n",
      "    :param trials: Number of trials for binomial observations (1 for Bernoulli)\n",
      "    :return: x_map, U, marginal_loglikelihood, joint_loglikelihood\n",
      "    \"\"\"\n",
      "    x = np.zeros(dN.shape)\n",
      "    dN = dN.astype(float)\n",
      "    while True:\n",
      "        # Build gradient of joint\n",
      "        d2x = np.convolve(x, [-1, 2, -1])[1:-1]\n",
      "        d2x[-1] -= x[-1]\n",
      "        G = -dN + trials * (1. / (1. + np.exp(-x))) + d2x / sigma2e\n",
      "        # Build Hessian of joint\n",
      "        D = trials / (np.exp(x) + 2. + np.exp(-x)) + 2. / sigma2e\n",
      "        D[-1] -= 1. / sigma2e\n",
      "        B = -np.ones(len(D)) / sigma2e\n",
      "        B[0] = 0.\n",
      "        U = sp.linalg.cholesky_banded((B, D), lower=False)\n",
      "        # Check convergence\n",
      "        if np.dot(G, G) < tol:\n",
      "            x_map = x\n",
      "            break\n",
      "        # Update estimate of map\n",
      "        x -= sp.linalg.cho_solve_banded([U, False], G)\n",
      "\n",
      "    # Compute joint and marginal probabilities\n",
      "    joint_loglikelihood = (np.sum(np.log(sp.special.binom(trials, dN)) + dN * x_map - trials * np.log(1 + np.exp(x_map))) -\n",
      "                           .5 * ((np.sum(np.diff(x_map)**2) + x_map[0]**2) / sigma2e + len(dN) * np.log(2*np.pi*sigma2e)))\n",
      "    marginal_loglikelihood = len(dN)/2. * np.log(2*np.pi) + joint_loglikelihood - np.sum(np.log(U[-1]))\n",
      "    return x_map, U, marginal_loglikelihood, joint_loglikelihood"
     ],
     "language": "python",
     "metadata": {},
     "outputs": [],
     "prompt_number": 3
    },
    {
     "cell_type": "code",
     "collapsed": false,
     "input": [
      "def cov_from_chol_precision(U):\n",
      "    \"\"\"Given the Cholesky factorization (U) of the posterior precision matrix (J), with U^t * U = J,\n",
      "    return the tridiagonal part of the covariance matrix.\n",
      "\n",
      "    :param U: Cholesky factorization (U) of J, given as [0, A; D] where A is the upper diagonal and D the main diagonal\n",
      "    :return: Cov_tri: Tridiagonal part of the covariance matrix returned as [0, C_i,i+1; C_ii; C_i+1,i, 0]\n",
      "    \"\"\"\n",
      "    assert(U.shape[0] == 2 and U[0,0] == 0)\n",
      "    A, D = U # Unpack matrix into first (above) diagonal and diagonal\n",
      "    Cov_tri = np.zeros_like(U)\n",
      "    C, V = Cov_tri # Obtain _views_ into the first diagonal and diagonal\n",
      "    # Compute last element of diagonal\n",
      "    V[-1] = 1. / (D[-1] ** 2)\n",
      "    # Recursively compute other elements of main diagonal and first diagonal\n",
      "    for i in range(len(D)-1, 0, -1):\n",
      "        iD = 1. / D[i-1]\n",
      "        iDA = iD * A[i]\n",
      "        N = -iDA * V[i]\n",
      "        C[i] = N\n",
      "        V[i-1] = iD ** 2 - N * iDA\n",
      "    return Cov_tri"
     ],
     "language": "python",
     "metadata": {},
     "outputs": [],
     "prompt_number": 4
    },
    {
     "cell_type": "code",
     "collapsed": false,
     "input": [
      "def Cluster_Laplace(dN, sigma2e_init, prior_clusters, trials=1.):\n",
      "    assert(len(sigma2e_init) == len(prior_clusters))\n",
      "    C = len(prior_clusters)\n",
      "    M, K = dN.shape\n",
      "    posterior_clusters = np.tile(prior_clusters, [M,1]).T\n",
      "    sigma2e_old = sigma2e_init\n",
      "    expect_log_likel_old = np.NaN\n",
      "    while True:\n",
      "        sigma2e_new = np.zeros((C, M))\n",
      "        log_prob_dNi_given_c = np.zeros((C, M))\n",
      "        for i, dN_i in enumerate(dN):\n",
      "            for c, sigma2e_old_c in enumerate(sigma2e_old):\n",
      "                x_map, U, marginal_loglik, _ = Do_Kalman_Likelihood_Bernoulli_LaplaceMAP(dN_i, sigma2e_old_c, trials=trials)\n",
      "                Cov_tri = cov_from_chol_precision(U)\n",
      "                sigma2e_new[c,i] = (np.sum(Cov_tri[1]) + np.dot(x_map, x_map) # E[x_k^2]\n",
      "                                   + np.sum(Cov_tri[1,:-1]) + np.dot(x_map[:-1], x_map[:-1]) # E[x_{k-1}^2]\n",
      "                                   - 2 * np.sum(Cov_tri[0]) - 2 * np.dot(x_map[1:], x_map[:-1])) / K # E[x_{k-1} * x_k]\n",
      "                log_prob_dNi_given_c[c,i] = marginal_loglik\n",
      "        expect_log_likel = np.sum(posterior_clusters * log_prob_dNi_given_c)\n",
      "        print('---- Expectation of log_likelihood -----')\n",
      "        print(expect_log_likel)\n",
      "        if (abs(expect_log_likel - expect_log_likel_old) < 1e-8):\n",
      "            break\n",
      "        expect_log_likel_old = expect_log_likel\n",
      "        sigma2e_new = np.sum(posterior_clusters * sigma2e_new, axis=1) / np.sum(posterior_clusters, axis=1)\n",
      "        print('---- Sigma2e -----')\n",
      "        print(sigma2e_new)\n",
      "        posterior_clusters = np.exp(log_prob_dNi_given_c - np.max(log_prob_dNi_given_c, axis=0)) * prior_clusters[:,None]\n",
      "        posterior_clusters /= np.sum(posterior_clusters, axis=0)\n",
      "        print('---- Posterior clusters -----')\n",
      "        print(posterior_clusters)"
     ],
     "language": "python",
     "metadata": {},
     "outputs": [],
     "prompt_number": 5
    },
    {
     "cell_type": "code",
     "collapsed": false,
     "input": [
      "sigma2e_init = np.array([0.12, 0.18])\n",
      "prior_clusters = np.array([0.5, 0.5])\n",
      "Cluster_Laplace(dN, sigma2e_init, prior_clusters, trials=trials)"
     ],
     "language": "python",
     "metadata": {},
     "outputs": [
      {
       "output_type": "stream",
       "stream": "stdout",
       "text": [
        "---- Expectation of log_likelihood -----\n",
        "-69456.8593581\n",
        "---- Sigma2e -----\n",
        "[ 0.1288427   0.18607363]\n",
        "---- Posterior clusters -----\n",
        "[[  9.99999931e-01   1.00000000e+00   1.00000000e+00   9.99863915e-01\n",
        "    1.00000000e+00   9.99999999e-01   9.99986451e-01   1.00000000e+00\n",
        "    9.99991556e-01   9.97461684e-01   7.23648521e-55   5.06840772e-35\n",
        "    1.39020496e-34   2.53372343e-53   1.75871914e-48   6.95387473e-28\n",
        "    1.98535381e-47   2.14078195e-23   9.31002428e-42   1.56853983e-47]\n",
        " [  6.85535886e-08   3.87079268e-10   6.57142380e-13   1.36085151e-04\n",
        "    7.59620414e-11   1.37783481e-09   1.35491014e-05   7.99231791e-12\n",
        "    8.44438233e-06   2.53831650e-03   1.00000000e+00   1.00000000e+00\n",
        "    1.00000000e+00   1.00000000e+00   1.00000000e+00   1.00000000e+00\n",
        "    1.00000000e+00   1.00000000e+00   1.00000000e+00   1.00000000e+00]]\n",
        "---- Expectation of log_likelihood -----"
       ]
      },
      {
       "output_type": "stream",
       "stream": "stdout",
       "text": [
        "\n",
        "-68901.6691613\n",
        "---- Sigma2e -----\n",
        "[ 0.11778884  0.20128771]\n",
        "---- Posterior clusters -----\n",
        "[[  9.99999931e-01   1.00000000e+00   1.00000000e+00   9.99863915e-01\n",
        "    1.00000000e+00   9.99999999e-01   9.99986451e-01   1.00000000e+00\n",
        "    9.99991556e-01   9.97461684e-01   7.23648521e-55   5.06840772e-35\n",
        "    1.39020496e-34   2.53372343e-53   1.75871914e-48   6.95387473e-28\n",
        "    1.98535381e-47   2.14078195e-23   9.31002428e-42   1.56853983e-47]\n",
        " [  6.85535886e-08   3.87079268e-10   6.57142380e-13   1.36085151e-04\n",
        "    7.59620414e-11   1.37783481e-09   1.35491014e-05   7.99231791e-12\n",
        "    8.44438233e-06   2.53831650e-03   1.00000000e+00   1.00000000e+00\n",
        "    1.00000000e+00   1.00000000e+00   1.00000000e+00   1.00000000e+00\n",
        "    1.00000000e+00   1.00000000e+00   1.00000000e+00   1.00000000e+00]]\n",
        "---- Expectation of log_likelihood -----"
       ]
      },
      {
       "output_type": "stream",
       "stream": "stdout",
       "text": [
        "\n",
        "-68901.6691613\n"
       ]
      }
     ],
     "prompt_number": 6
    },
    {
     "cell_type": "code",
     "collapsed": false,
     "input": [
      "sigma2e_init = np.array([0.14, 0.16])\n",
      "prior_clusters = np.array([0.5, 0.5])\n",
      "Cluster_Laplace(dN, sigma2e_init, prior_clusters, trials=trials)"
     ],
     "language": "python",
     "metadata": {},
     "outputs": [
      {
       "output_type": "stream",
       "stream": "stdout",
       "text": [
        "---- Expectation of log_likelihood -----\n",
        "-69370.3315713\n",
        "---- Sigma2e -----\n",
        "[ 0.14818484  0.16725294]\n",
        "---- Posterior clusters -----\n",
        "[[  9.97056611e-01   9.99378367e-01   9.99926255e-01   9.58694548e-01\n",
        "    9.99654619e-01   9.99103747e-01   9.80013647e-01   9.99824428e-01\n",
        "    9.84113942e-01   9.08612067e-01   2.75899147e-18   7.87532908e-12\n",
        "    1.06649969e-11   7.57242939e-18   2.33675211e-16   1.65906912e-09\n",
        "    7.24605253e-16   4.67058463e-08   4.39368673e-14   6.65308363e-16]\n",
        " [  2.94338874e-03   6.21633139e-04   7.37450957e-05   4.13054516e-02\n",
        "    3.45381108e-04   8.96252954e-04   1.99863529e-02   1.75571556e-04\n",
        "    1.58860584e-02   9.13879329e-02   1.00000000e+00   1.00000000e+00\n",
        "    1.00000000e+00   1.00000000e+00   1.00000000e+00   9.99999998e-01\n",
        "    1.00000000e+00   9.99999953e-01   1.00000000e+00   1.00000000e+00]]\n",
        "---- Expectation of log_likelihood -----"
       ]
      },
      {
       "output_type": "stream",
       "stream": "stdout",
       "text": [
        "\n",
        "-69188.7705847\n",
        "---- Sigma2e -----\n",
        "[ 0.13568056  0.18067521]\n",
        "---- Posterior clusters -----\n",
        "[[  9.97056611e-01   9.99378367e-01   9.99926255e-01   9.58694548e-01\n",
        "    9.99654619e-01   9.99103747e-01   9.80013647e-01   9.99824428e-01\n",
        "    9.84113942e-01   9.08612067e-01   2.75899147e-18   7.87532908e-12\n",
        "    1.06649969e-11   7.57242939e-18   2.33675211e-16   1.65906912e-09\n",
        "    7.24605253e-16   4.67058463e-08   4.39368673e-14   6.65308363e-16]\n",
        " [  2.94338874e-03   6.21633139e-04   7.37450957e-05   4.13054516e-02\n",
        "    3.45381108e-04   8.96252954e-04   1.99863529e-02   1.75571556e-04\n",
        "    1.58860584e-02   9.13879329e-02   1.00000000e+00   1.00000000e+00\n",
        "    1.00000000e+00   1.00000000e+00   1.00000000e+00   9.99999998e-01\n",
        "    1.00000000e+00   9.99999953e-01   1.00000000e+00   1.00000000e+00]]\n",
        "---- Expectation of log_likelihood -----"
       ]
      },
      {
       "output_type": "stream",
       "stream": "stdout",
       "text": [
        "\n",
        "-69188.7705847\n"
       ]
      }
     ],
     "prompt_number": 7
    },
    {
     "cell_type": "code",
     "collapsed": false,
     "input": [],
     "language": "python",
     "metadata": {},
     "outputs": [],
     "prompt_number": 7
    }
   ],
   "metadata": {}
  }
 ]
}