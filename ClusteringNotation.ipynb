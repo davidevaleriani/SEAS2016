{
 "metadata": {
  "name": "",
  "signature": "sha256:b1547c20ea37ababd87abdd1acf9066ef9fb91777b78e2f642d90e08242e4c6d"
 },
 "nbformat": 3,
 "nbformat_minor": 0,
 "worksheets": [
  {
   "cells": [
    {
     "cell_type": "heading",
     "level": 1,
     "metadata": {},
     "source": [
      "Clustering neurons"
     ]
    },
    {
     "cell_type": "markdown",
     "metadata": {},
     "source": [
      "# Notation\n",
      "\n",
      "$(0,T]$: Observation interval\n",
      "\n",
      "$J$: Total number of neurons\n",
      "\n",
      "$N_{0,t}^{j}$: sample path of spike times from neuron $j$ in $(0,t]$, for $t \\in (0,T]$, and $j = 1,...,J$\n",
      "\n",
      "$N_{0,t} = \\{N_{0,t}^{1},...,N_{0,t}^{J}\\}$: ensemble spiking activity in $(0,t]$\n",
      "\n",
      "$K$: divide $(0,T]$ into $K$ intervals with width $\\Delta = \\frac{T}{K}$ such that there is at most one spike per interval\n",
      "\n",
      "$k\\Delta$: The point at which the latent process model is evaluated, for $k = 1,...,K$\n",
      "\n",
      "$c_j$: Spike cluster to which the $j$-th neuron belongs\n",
      "\n",
      "$\\bar x^c_k$: For $k = 1,...,K$, state evolution of the centroid of the $c$-th cluster\n",
      "\n",
      "$\\Delta x^j_k$: For $k = 1,...,K$, state evolution of the \"deviation\" of the $j$-th neuron from its cluster centroid\n",
      "\n",
      "$x^j_k = \\bar x^{c_j}_k + \\Delta x^j_k$: For $k = 1,...,K$, state evolution of the $j$-th neuron"
     ]
    },
    {
     "cell_type": "markdown",
     "metadata": {},
     "source": [
      "# Cluster state-space model, each neuron is clone of the cluster centre\n",
      "\n",
      "The state space model for the model can be defined as\n",
      "\n",
      "$$\\left\\{\n",
      "\\begin{array}{ll}\n",
      "      \\bar x^c_k = \\bar x^c_{k-1} + \\bar\\epsilon^c_k, \\quad \\bar\\epsilon^c_k \\sim N(0,\\sigma^2_{\\bar\\epsilon_c}) & (1) \\\\\n",
      "      \\Delta x^j_k = 0 & (2) \\\\\n",
      "      x^j_k = \\bar x^{c_j}_k & (3)\\\\\n",
      "      \\lambda^j_k \\Delta = \\frac{e^{x^j_k}}{1+e^{x^j_k}} & (4)\\\\\n",
      "      N^j_{0,k} | x^j_k \\sim Bernoulli(\\lambda^j_k \\Delta) & (5)\\\\\n",
      "\\end{array} \n",
      "\\right. $$\n",
      "\n",
      "The Complete Data Likelihood is then,\n",
      "\n",
      "$$\\begin{align*}\n",
      "p(N_{0,K},x,c;\\theta)\n",
      "&= p(N_{0,K} | \\bar x^1,\\dots, \\bar x^C, c;\\theta) \\, p(\\bar x^1,\\dots, \\bar x^C;\\theta) \\, p(c;\\theta) \\\\\n",
      "&= \\prod\\limits_{j=1}^{J} p(N^j_{0,T}|\\bar x^{c_j};\\theta) \\, \\prod\\limits_{c=1}^{C} p(\\bar x^c;\\theta) \\, \\prod\\limits_{j=1}^{J} p(c_j;\\theta)\n",
      "\\end{align*}$$\n"
     ]
    },
    {
     "cell_type": "markdown",
     "metadata": {},
     "source": [
      "# Full state-space model\n",
      "\n",
      "The state space model for the model can be defined as\n",
      "\n",
      "$$\\left\\{\n",
      "\\begin{array}{ll}\n",
      "      \\bar x^c_k = \\bar x^c_{k-1} + \\bar\\epsilon^c_k, \\quad \\bar\\epsilon^c_k \\sim N(0,\\sigma^2_{\\bar\\epsilon_c}) & (1) \\\\\n",
      "      \\Delta x^j_k = \\rho_j \\Delta x^j_{k-1} + \\epsilon^j_k, \\quad \\epsilon^j_k \\sim N(0,\\sigma^2_{\\epsilon_j}) & (2) \\\\\n",
      "      x^j_k = \\bar x^{c_j}_k + \\Delta x^j_k & (3)\\\\\n",
      "      \\lambda^j_k \\Delta = \\frac{e^{x^j_k}}{1+e^{x^j_k}} & (4)\\\\\n",
      "      N^j_{0,k} | x^j_k \\sim Bernoulli(\\lambda^j_k \\Delta) & (5)\\\\\n",
      "\\end{array} \n",
      "\\right. $$\n",
      "\n",
      "The Complete Data Likelihood is then,\n",
      "\n",
      "$$\\begin{align*}\n",
      "p(N_{0,K},x,c;\\theta)\n",
      "\\end{align*}$$\n"
     ]
    },
    {
     "cell_type": "markdown",
     "metadata": {},
     "source": []
    },
    {
     "cell_type": "code",
     "collapsed": false,
     "input": [],
     "language": "python",
     "metadata": {},
     "outputs": []
    }
   ],
   "metadata": {}
  }
 ]
}