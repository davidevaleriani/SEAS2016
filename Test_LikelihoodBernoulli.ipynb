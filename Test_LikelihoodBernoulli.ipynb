{
 "metadata": {
  "name": "",
  "signature": "sha256:3747850c7b4d511a876fdf444cefaf62d3066845ef151bbe857121b192af08f5"
 },
 "nbformat": 3,
 "nbformat_minor": 0,
 "worksheets": [
  {
   "cells": [
    {
     "cell_type": "code",
     "collapsed": false,
     "input": [
      "import numpy as np\n",
      "from scipy import linalg\n",
      "import hips.distributions.polya_gamma as pg\n",
      "%matplotlib inline\n",
      "import matplotlib.pyplot as plt"
     ],
     "language": "python",
     "metadata": {},
     "outputs": [],
     "prompt_number": 1
    },
    {
     "cell_type": "code",
     "collapsed": false,
     "input": [
      "# Generate test data\n",
      "K = 150\n",
      "dN = np.random.rand(K) > .9\n",
      "sigma2e = .05"
     ],
     "language": "python",
     "metadata": {},
     "outputs": [],
     "prompt_number": 2
    },
    {
     "cell_type": "markdown",
     "metadata": {},
     "source": [
      "## Likelihood of a state-space model with Bernoulli observations\n",
      "\n",
      "The log-likelihood is\n",
      "\\begin{align*}\n",
      "\\log p(N_{0,K}, x; \\theta) &= \\log p(N_{0,K}|x) + \\log p(x; \\theta) \\\\\n",
      "&= \\sum\\limits_{k=1}^{K} \\log p(\\Delta N_{k}|x_k) + \\sum\\limits_{k=1}^{K} \\log p(x_k|x_{k-1}; \\sigma_{\\epsilon}^2) \\\\\n",
      "&= \\sum\\limits_{k=1}^{K} \\left[\\Delta N_{k} \\log\\left(\\frac{e^{x_k}}{1+e^{x_k}}\\right) + (1-\\Delta N_{k}) \\log\\left(\\frac{1}{1+e^{x_k}}\\right) \\right] + \\pi(x; \\theta) \\\\\n",
      "&= \\sum\\limits_{k=1}^{K} \\left[ \\Delta N_{k} \\, x_k - \\log(1+e^{x_k}) \\right] + \\pi(x; \\theta)\n",
      "\\end{align*}\n",
      "where\n",
      "$$\n",
      "\\pi(x; \\theta) = - \\frac{K}{2} \\log(2\\pi\\sigma_{\\epsilon}^2) - \\frac{1}{2\\sigma_{\\epsilon}^2} \\sum\\limits_{k=1}^{K} (x_k - x_{k-1})^2\n",
      "$$"
     ]
    },
    {
     "cell_type": "markdown",
     "metadata": {},
     "source": [
      "## Marginal likelihood using Polya-Gamma $PG(1,0)$ latent variables\n",
      "\n",
      "Using the Polya-Gamma latent variables $w_k \\sim PG(1,0)$, we can rewrite $p(\\Delta N_{k}|x_k)$ as (see http://dx.doi.org/10.1080/01621459.2013.829001)\n",
      "\\begin{align}\n",
      "p(\\Delta N_{k}|x_k) &= \\frac{e^{x_k\\,\\Delta N_k}}{1+e^{x_k}} = \\frac12 e^{w_k \\, y_k \\, x_k} \\int\\limits_{0}^{\\infty} e^{-w_k \\, x_k^2 / 2} \\, p(w_k) \\, dw_k \\\\\n",
      "&= \\int\\limits_{0}^{\\infty} \\frac{e^{w_k \\, y_k^2 / 2}}{\\sqrt{2 \\pi^{-1} w_k}} \\left[ \\frac{1}{\\sqrt{2\\pi w_k^{-1}}} e^{-\\frac{1}{2 \\, w_k^{-1}} \\left(y_k - x_k\\right)^2} \\right] p(w_k) \\, dw_k\n",
      "\\end{align}\n",
      "where $y_k = \\frac{\\Delta N_k - 1/2}{w_k}$.\n",
      "\n",
      "So, the data likelihood can be written as\n",
      "\\begin{align}\n",
      "p(N_{0,K}, x; \\theta) &= \\int\\limits_{w \\in \\mathbb{R}_{+}^K} c(w,y) \\, p(y,x; w^{-1}, \\sigma_{\\epsilon}^2) \\,  p(w) \\, dw\n",
      "\\end{align}\n",
      "where\n",
      "\\begin{align}\n",
      "c(w,y) &= \\frac{e^{\\sum_{k=1}^K w_k \\, y_k^2 / 2}}{\\prod_{k=1}^K\\sqrt{2 \\pi^{-1} w_k}}, \\\\\n",
      "p(y,x; w^{-1}, \\sigma_{\\epsilon}^2) &= \\prod_{k=1}^K \\left[\n",
      "\\frac{1}{\\sqrt{2\\pi w_k^{-1}}} e^{-\\frac{1}{2 \\, w_k^{-1}} \\left(y_k - x_k\\right)^2} \\,\n",
      "\\frac{1}{\\sqrt{2\\pi \\sigma_{\\epsilon}^2}} e^{-\\frac{1}{2 \\, \\sigma_{\\epsilon}^2} \\left(x_k - x_{k-1}\\right)^2}\n",
      "\\right]\n",
      "\\end{align}\n",
      "The term $p(y,x; w^{-1}, \\sigma_{\\epsilon}^2)$ is the data likelihood of a Gaussian state-space model with observations $y_k$, measurement noise with variance $w_k^{-1}$ and process noise $\\sigma_{\\epsilon}^2$.\n",
      "\n",
      "We can now compute the marginal likelihood as\n",
      "\\begin{align}\n",
      "p(N_{0,K}; \\theta) &= \\int\\limits_{x \\in \\mathbb{R}^K} \\; \\int\\limits_{w \\in \\mathbb{R}_{+}^K} c(w,y) \\, p(y,x; w^{-1}, \\sigma_{\\epsilon}^2) \\, p(w) \\, dw \\, dx \\\\\n",
      "&= \\int\\limits_{w \\in \\mathbb{R}_{+}^K} c(w,y) \\left[ \\int\\limits_{x \\in \\mathbb{R}^K} p(y,x; w^{-1}, \\sigma_{\\epsilon}^2) \\, dx \\right] p(w) \\, dw \\\\\n",
      "&= \\int\\limits_{w \\in \\mathbb{R}_{+}^K} c(w,y) \\, p(y; w^{-1}, \\sigma_{\\epsilon}^2) \\, dw\n",
      "\\end{align}\n",
      "where\n",
      "\\begin{align}\n",
      "J &= \\nabla_x^2 [-\\log p(y,x; w^{-1}, \\sigma_{\\epsilon}^2)]\\\\\n",
      "x_{\\mathrm{MAP}} &= 0_K - J^{-1} \\nabla_x [-\\log p(y,x; w^{-1}, \\sigma_{\\epsilon}^2)] \\big|_{x = 0_K}\\\\\n",
      "p(y; w^{-1}, \\sigma_{\\epsilon}^2) &= (2\\pi)^{K/2} \\, p(y, x_{\\mathrm{MAP}}; w^{-1}, \\sigma_{\\epsilon}^2) \\, |J|^{-1/2}\n",
      "\\end{align}\n",
      "(see http://dx.doi.org/10.1007/s10827-009-0150-x, then do some algebra).\n",
      "\n",
      "Finally, we can estimate the marginal likelihood for the Bernoulli observations by drawing $M$ vectors $w$ whose $K$ elements are sampled from $PG(1,0)$, then\n",
      "$$\n",
      "p(N_{0,K}; \\theta) \\simeq \\frac{1}{M} \\sum_{m=1}^{M} c(w^{(m)},y^{(m)}) \\, p(y^{(m)}; (w^{(m)})^{-1}, \\sigma_{\\epsilon}^2).\n",
      "$$"
     ]
    },
    {
     "cell_type": "code",
     "collapsed": false,
     "input": [
      "def Do_Kalman_Likelihood(y, sigma2obs, sigma2e):\n",
      "    \"\"\"MAP solution, inverse covariance matrix, and marginal loglikelihood of state-space model\n",
      "\n",
      "    :param y: Observations (K,)\n",
      "    :param sigma2obs: Variance of observation noise (can be scalar or vector)\n",
      "    :param sigma2e: Variance of process noise\n",
      "    :return: x_map, L, marginal_loglikelihood, joint_loglikelihood\n",
      "    \"\"\"\n",
      "    # Build diagonals of information matrix\n",
      "    sigma2obs *= np.ones(len(y))\n",
      "    D = 1. / sigma2obs + 2. / sigma2e\n",
      "    D[-1] = 1. / sigma2obs[-1] + 1. / sigma2e\n",
      "    B = -np.ones(len(D)) / sigma2e\n",
      "    B[-1] = 0.\n",
      "    \n",
      "    # Solve, assuming x_init=0 for simplicity\n",
      "    L = linalg.cholesky_banded((D, B), lower=True)\n",
      "    x_map = linalg.cho_solve_banded([L, True], y / sigma2obs)\n",
      "\n",
      "    # Compute joint and marginal probabilities\n",
      "    joint_loglikelihood = -.5 * ((np.sum(np.diff(x_map)**2) + x_map[0]**2) / sigma2e +\n",
      "                                 np.sum((y - x_map)**2 / sigma2obs) +\n",
      "                                 (len(y) * np.log(2*np.pi*sigma2e * 2*np.pi) + np.sum(np.log(sigma2obs))))\n",
      "    marginal_loglikelihood = len(y)/2. * np.log(2*np.pi) + joint_loglikelihood - np.sum(np.log(L[0]))\n",
      "    return x_map, L, marginal_loglikelihood, joint_loglikelihood"
     ],
     "language": "python",
     "metadata": {},
     "outputs": [],
     "prompt_number": 3
    },
    {
     "cell_type": "code",
     "collapsed": false,
     "input": [
      "def Marginal_Likelihood_PG(dN, sigma2e, n_samples, ret_accum=False):\n",
      "    K = len(dN)\n",
      "    dN = dN.astype(float)\n",
      "    marginal_loglikelihood_sample = np.zeros(n_samples)\n",
      "    ones, zeros = np.ones(K), np.zeros(K)\n",
      "    for i in range(n_samples):\n",
      "        w = pg.polya_gamma(a=ones, c=zeros)\n",
      "        y = (dN - .5) / w\n",
      "        marginal_loglikelihood_gaus = Do_Kalman_Likelihood(y, 1. / w, sigma2e)[2]\n",
      "        log_c = .5 * (np.sum(w * y**2) - (K * np.log(2/np.pi) + np.sum(np.log(w))))\n",
      "        marginal_loglikelihood_sample[i] = log_c + marginal_loglikelihood_gaus\n",
      "\n",
      "    offset = max(marginal_loglikelihood_sample)\n",
      "    if ret_accum:\n",
      "        accum_marginal_loglikelihood = offset + np.log(np.cumsum(np.exp(marginal_loglikelihood_sample - offset))\n",
      "                                                       / np.arange(1, n_samples+1))\n",
      "        return accum_marginal_loglikelihood\n",
      "    marginal_loglikelihood = offset + np.log(np.mean(np.exp(marginal_loglikelihood_sample - offset)))\n",
      "    return marginal_loglikelihood"
     ],
     "language": "python",
     "metadata": {},
     "outputs": [],
     "prompt_number": 4
    },
    {
     "cell_type": "code",
     "collapsed": false,
     "input": [
      "# Simple test of Do_Kalman_Likelihood only (K=1, Gaussian)\n",
      "import scipy.stats as stats\n",
      "y = 3.\n",
      "sigma2obs = 10.\n",
      "x_map, L, marginal_loglikelihood, joint_loglikelihood = Do_Kalman_Likelihood(y * np.ones(1), sigma2obs, sigma2e)\n",
      "j = stats.norm.pdf(x_map, 0, np.sqrt(sigma2e)) * stats.norm.pdf(x_map, y, np.sqrt(sigma2obs))\n",
      "m = np.sqrt(2*np.pi) * j / L[0,0]\n",
      "assert(abs(np.log(j) - joint_loglikelihood) < 1e-9)\n",
      "assert(abs(np.log(m) - marginal_loglikelihood) < 1e-9)"
     ],
     "language": "python",
     "metadata": {},
     "outputs": [],
     "prompt_number": 5
    },
    {
     "cell_type": "code",
     "collapsed": false,
     "input": [
      "# Simple test of Marginal_Likelihood_PG (K=1)\n",
      "n_samples = 10000\n",
      "#state = np.random.get_state()\n",
      "#np.random.set_state(state)\n",
      "accum_marginal_loglikelihood = Marginal_Likelihood_PG(np.ones(1), sigma2e, n_samples, ret_accum=True)\n",
      "# normpdf(x,m,s2) := 1/sqrt(2*%pi*s2) * exp(-.5*(x-m)^2/s2);\n",
      "# bernoulli(y, x) := exp(x*y) / (1 + exp(x));\n",
      "# quad_qag(normpdf(x, 0, .5) * bernoulli(1, x), x, -25, 25, 3);\n",
      "#   [0.5000000000000001, 3.188337035858471E-10, 217, 0]\n",
      "# We can actually prove it's 0.5 because = integral( (.5+odd(x)) * gauspdf(x;0,s2e) ) = .5 + 0\n",
      "print(np.log(.5), accum_marginal_loglikelihood[-1])\n",
      "plt.plot(accum_marginal_loglikelihood)\n",
      "plt.plot([0,n_samples-1], [np.log(.5),np.log(.5)])"
     ],
     "language": "python",
     "metadata": {},
     "outputs": [
      {
       "output_type": "stream",
       "stream": "stdout",
       "text": [
        "(-0.69314718055994529, -0.6932225117771782)\n"
       ]
      },
      {
       "metadata": {},
       "output_type": "pyout",
       "prompt_number": 6,
       "text": [
        "[<matplotlib.lines.Line2D at 0x7f941cbb19d0>]"
       ]
      },
      {
       "metadata": {},
       "output_type": "display_data",
       "png": "[encoded data removed]",
       "text": [
        "<matplotlib.figure.Figure at 0x7f944846c750>"
       ]
      }
     ]
    },
    {
     "cell_type": "code",
     "collapsed": false,
     "input": [
      "# Test Marginal_Likelihood_PG\n",
      "n_samples = 12500\n",
      "%time accum_marginal_loglikelihood = Marginal_Likelihood_PG(dN, sigma2e, n_samples, ret_accum=True)\n",
      "plt.plot(accum_marginal_loglikelihood)\n",
      "print(accum_marginal_loglikelihood[-1])"
     ],
     "language": "python",
     "metadata": {},
     "outputs": []
    },
    {
     "cell_type": "markdown",
     "metadata": {},
     "source": [
      "## Laplace approximation at the MAP"
     ]
    },
    {
     "cell_type": "code",
     "collapsed": false,
     "input": [
      "def Do_Kalman_Likelihood_Bernoulli_LaplaceMAP(dN, sigma2e, tol=1e-8):\n",
      "    \"\"\"MAP solution, inverse covariance matrix, and marginal loglikelihood of state-space model\n",
      "    computed using Laplace approximation around MAP state.\n",
      "\n",
      "    :param dN: Observations (K,)\n",
      "    :param sigma2e: Variance of process noise\n",
      "    :return: x_map, L, marginal_loglikelihood, joint_loglikelihood\n",
      "    \"\"\"\n",
      "    x = np.zeros(dN.shape)\n",
      "    dN = dN.astype(float)\n",
      "    while True:\n",
      "        # Build gradient of joint\n",
      "        d2x = np.convolve(x, [-1, 2, -1])[1:-1]\n",
      "        d2x[-1] -= x[-1]\n",
      "        G = -dN + (1. / (1. + np.exp(-x))) + d2x / sigma2e\n",
      "        # Build Hessian of joint\n",
      "        D = 1. / (np.exp(x) + 2 + np.exp(-x)) + 2. / sigma2e\n",
      "        D[-1] -= 1. / sigma2e\n",
      "        B = -np.ones(len(D)) / sigma2e\n",
      "        B[-1] = 0.\n",
      "        L = linalg.cholesky_banded((D, B), lower=True)\n",
      "        # Check convergence\n",
      "        if np.dot(G, G) < tol:\n",
      "            x_map = x\n",
      "            break\n",
      "        # Update estimate of map\n",
      "        x -= linalg.cho_solve_banded([L, True], G)\n",
      "\n",
      "    # Compute joint and marginal probabilities\n",
      "    joint_loglikelihood = (np.sum(dN * x_map - np.log(1 + np.exp(x_map))) -\n",
      "                           .5 * ((np.sum(np.diff(x_map)**2) + x_map[0]**2) / sigma2e + len(dN) * np.log(2*np.pi*sigma2e)))\n",
      "    marginal_loglikelihood = len(dN)/2. * np.log(2*np.pi) + joint_loglikelihood - np.sum(np.log(L[0]))\n",
      "    return x_map, L, marginal_loglikelihood, joint_loglikelihood"
     ],
     "language": "python",
     "metadata": {},
     "outputs": []
    },
    {
     "cell_type": "code",
     "collapsed": false,
     "input": [
      "# Test Marginal_Likelihood_PG\n",
      "%time x_map_l, L_l, marginal_loglikelihood_l, joint_loglikelihood_l = Do_Kalman_Likelihood_Bernoulli_LaplaceMAP(dN, sigma2e)\n",
      "print(marginal_loglikelihood_l)\n",
      "plt.plot(x_map_l)\n",
      "plt.plot(dN)"
     ],
     "language": "python",
     "metadata": {},
     "outputs": []
    },
    {
     "cell_type": "code",
     "collapsed": false,
     "input": [
      "s2e = np.arange(.01, 1., .01)\n",
      "marginal_loglikelihood_l = np.zeros_like(s2e)\n",
      "joint_loglikelihood_l = np.zeros_like(s2e)\n",
      "for i in range(len(s2e)):\n",
      "    marginal_loglikelihood_l[i], joint_loglikelihood_l[i] = Do_Kalman_Likelihood_Bernoulli_LaplaceMAP(dN, s2e[i])[2:]\n",
      "plt.plot(s2e, marginal_loglikelihood_l)\n",
      "#plt.plot(s2e, joint_loglikelihood_l)"
     ],
     "language": "python",
     "metadata": {},
     "outputs": []
    },
    {
     "cell_type": "code",
     "collapsed": false,
     "input": [],
     "language": "python",
     "metadata": {},
     "outputs": []
    }
   ],
   "metadata": {}
  }
 ]
}